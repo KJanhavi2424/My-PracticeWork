{
 "cells": [
  {
   "cell_type": "markdown",
   "id": "a67d2c2d",
   "metadata": {},
   "source": [
    "Logistic-Regression"
   ]
  },
  {
   "cell_type": "code",
   "execution_count": 1,
   "id": "42ef7d65",
   "metadata": {},
   "outputs": [],
   "source": [
    "#Importing necessary Libraries\n",
    "import pandas as pd\n",
    "import numpy as np\n",
    "import seaborn as sns\n",
    "import matplotlib.pyplot as plt\n",
    "%matplotlib inline"
   ]
  },
  {
   "cell_type": "code",
   "execution_count": 2,
   "id": "1e8d66ff",
   "metadata": {},
   "outputs": [
    {
     "data": {
      "text/html": [
       "<div>\n",
       "<style scoped>\n",
       "    .dataframe tbody tr th:only-of-type {\n",
       "        vertical-align: middle;\n",
       "    }\n",
       "\n",
       "    .dataframe tbody tr th {\n",
       "        vertical-align: top;\n",
       "    }\n",
       "\n",
       "    .dataframe thead th {\n",
       "        text-align: right;\n",
       "    }\n",
       "</style>\n",
       "<table border=\"1\" class=\"dataframe\">\n",
       "  <thead>\n",
       "    <tr style=\"text-align: right;\">\n",
       "      <th></th>\n",
       "      <th>CASENUM</th>\n",
       "      <th>ATTORNEY</th>\n",
       "      <th>CLMSEX</th>\n",
       "      <th>CLMINSUR</th>\n",
       "      <th>SEATBELT</th>\n",
       "      <th>CLMAGE</th>\n",
       "      <th>LOSS</th>\n",
       "    </tr>\n",
       "  </thead>\n",
       "  <tbody>\n",
       "    <tr>\n",
       "      <th>0</th>\n",
       "      <td>5</td>\n",
       "      <td>1</td>\n",
       "      <td>0.0</td>\n",
       "      <td>1.0</td>\n",
       "      <td>0.0</td>\n",
       "      <td>50.0</td>\n",
       "      <td>34.940</td>\n",
       "    </tr>\n",
       "    <tr>\n",
       "      <th>1</th>\n",
       "      <td>3</td>\n",
       "      <td>0</td>\n",
       "      <td>1.0</td>\n",
       "      <td>0.0</td>\n",
       "      <td>0.0</td>\n",
       "      <td>18.0</td>\n",
       "      <td>0.891</td>\n",
       "    </tr>\n",
       "    <tr>\n",
       "      <th>2</th>\n",
       "      <td>66</td>\n",
       "      <td>0</td>\n",
       "      <td>0.0</td>\n",
       "      <td>1.0</td>\n",
       "      <td>0.0</td>\n",
       "      <td>5.0</td>\n",
       "      <td>0.330</td>\n",
       "    </tr>\n",
       "    <tr>\n",
       "      <th>3</th>\n",
       "      <td>70</td>\n",
       "      <td>1</td>\n",
       "      <td>0.0</td>\n",
       "      <td>1.0</td>\n",
       "      <td>1.0</td>\n",
       "      <td>31.0</td>\n",
       "      <td>0.037</td>\n",
       "    </tr>\n",
       "    <tr>\n",
       "      <th>4</th>\n",
       "      <td>96</td>\n",
       "      <td>0</td>\n",
       "      <td>0.0</td>\n",
       "      <td>1.0</td>\n",
       "      <td>0.0</td>\n",
       "      <td>30.0</td>\n",
       "      <td>0.038</td>\n",
       "    </tr>\n",
       "    <tr>\n",
       "      <th>...</th>\n",
       "      <td>...</td>\n",
       "      <td>...</td>\n",
       "      <td>...</td>\n",
       "      <td>...</td>\n",
       "      <td>...</td>\n",
       "      <td>...</td>\n",
       "      <td>...</td>\n",
       "    </tr>\n",
       "    <tr>\n",
       "      <th>1335</th>\n",
       "      <td>34100</td>\n",
       "      <td>0</td>\n",
       "      <td>0.0</td>\n",
       "      <td>1.0</td>\n",
       "      <td>0.0</td>\n",
       "      <td>NaN</td>\n",
       "      <td>0.576</td>\n",
       "    </tr>\n",
       "    <tr>\n",
       "      <th>1336</th>\n",
       "      <td>34110</td>\n",
       "      <td>1</td>\n",
       "      <td>1.0</td>\n",
       "      <td>1.0</td>\n",
       "      <td>0.0</td>\n",
       "      <td>46.0</td>\n",
       "      <td>3.705</td>\n",
       "    </tr>\n",
       "    <tr>\n",
       "      <th>1337</th>\n",
       "      <td>34113</td>\n",
       "      <td>0</td>\n",
       "      <td>1.0</td>\n",
       "      <td>1.0</td>\n",
       "      <td>0.0</td>\n",
       "      <td>39.0</td>\n",
       "      <td>0.099</td>\n",
       "    </tr>\n",
       "    <tr>\n",
       "      <th>1338</th>\n",
       "      <td>34145</td>\n",
       "      <td>1</td>\n",
       "      <td>1.0</td>\n",
       "      <td>0.0</td>\n",
       "      <td>0.0</td>\n",
       "      <td>8.0</td>\n",
       "      <td>3.177</td>\n",
       "    </tr>\n",
       "    <tr>\n",
       "      <th>1339</th>\n",
       "      <td>34153</td>\n",
       "      <td>0</td>\n",
       "      <td>1.0</td>\n",
       "      <td>1.0</td>\n",
       "      <td>0.0</td>\n",
       "      <td>30.0</td>\n",
       "      <td>0.688</td>\n",
       "    </tr>\n",
       "  </tbody>\n",
       "</table>\n",
       "<p>1340 rows × 7 columns</p>\n",
       "</div>"
      ],
      "text/plain": [
       "      CASENUM  ATTORNEY  CLMSEX  CLMINSUR  SEATBELT  CLMAGE    LOSS\n",
       "0           5         1     0.0       1.0       0.0    50.0  34.940\n",
       "1           3         0     1.0       0.0       0.0    18.0   0.891\n",
       "2          66         0     0.0       1.0       0.0     5.0   0.330\n",
       "3          70         1     0.0       1.0       1.0    31.0   0.037\n",
       "4          96         0     0.0       1.0       0.0    30.0   0.038\n",
       "...       ...       ...     ...       ...       ...     ...     ...\n",
       "1335    34100         0     0.0       1.0       0.0     NaN   0.576\n",
       "1336    34110         1     1.0       1.0       0.0    46.0   3.705\n",
       "1337    34113         0     1.0       1.0       0.0    39.0   0.099\n",
       "1338    34145         1     1.0       0.0       0.0     8.0   3.177\n",
       "1339    34153         0     1.0       1.0       0.0    30.0   0.688\n",
       "\n",
       "[1340 rows x 7 columns]"
      ]
     },
     "execution_count": 2,
     "metadata": {},
     "output_type": "execute_result"
    }
   ],
   "source": [
    "#Read the dataset\n",
    "df= pd.read_csv('Client.csv',index_col=0)\n",
    "df"
   ]
  },
  {
   "cell_type": "markdown",
   "id": "707d68a8",
   "metadata": {},
   "source": [
    "EDA"
   ]
  },
  {
   "cell_type": "code",
   "execution_count": 3,
   "id": "a1ac898a",
   "metadata": {},
   "outputs": [
    {
     "data": {
      "text/html": [
       "<div>\n",
       "<style scoped>\n",
       "    .dataframe tbody tr th:only-of-type {\n",
       "        vertical-align: middle;\n",
       "    }\n",
       "\n",
       "    .dataframe tbody tr th {\n",
       "        vertical-align: top;\n",
       "    }\n",
       "\n",
       "    .dataframe thead th {\n",
       "        text-align: right;\n",
       "    }\n",
       "</style>\n",
       "<table border=\"1\" class=\"dataframe\">\n",
       "  <thead>\n",
       "    <tr style=\"text-align: right;\">\n",
       "      <th></th>\n",
       "      <th>CASENUM</th>\n",
       "      <th>ATTORNEY</th>\n",
       "      <th>CLMSEX</th>\n",
       "      <th>CLMINSUR</th>\n",
       "      <th>SEATBELT</th>\n",
       "      <th>CLMAGE</th>\n",
       "      <th>LOSS</th>\n",
       "    </tr>\n",
       "  </thead>\n",
       "  <tbody>\n",
       "    <tr>\n",
       "      <th>count</th>\n",
       "      <td>1340.000000</td>\n",
       "      <td>1340.000000</td>\n",
       "      <td>1328.000000</td>\n",
       "      <td>1299.000000</td>\n",
       "      <td>1292.000000</td>\n",
       "      <td>1151.000000</td>\n",
       "      <td>1340.000000</td>\n",
       "    </tr>\n",
       "    <tr>\n",
       "      <th>mean</th>\n",
       "      <td>11202.001493</td>\n",
       "      <td>0.511194</td>\n",
       "      <td>0.558735</td>\n",
       "      <td>0.907621</td>\n",
       "      <td>0.017028</td>\n",
       "      <td>28.414422</td>\n",
       "      <td>3.806307</td>\n",
       "    </tr>\n",
       "    <tr>\n",
       "      <th>std</th>\n",
       "      <td>9512.750796</td>\n",
       "      <td>0.500061</td>\n",
       "      <td>0.496725</td>\n",
       "      <td>0.289671</td>\n",
       "      <td>0.129425</td>\n",
       "      <td>20.304451</td>\n",
       "      <td>10.636903</td>\n",
       "    </tr>\n",
       "    <tr>\n",
       "      <th>min</th>\n",
       "      <td>0.000000</td>\n",
       "      <td>0.000000</td>\n",
       "      <td>0.000000</td>\n",
       "      <td>0.000000</td>\n",
       "      <td>0.000000</td>\n",
       "      <td>0.000000</td>\n",
       "      <td>0.000000</td>\n",
       "    </tr>\n",
       "    <tr>\n",
       "      <th>25%</th>\n",
       "      <td>4177.000000</td>\n",
       "      <td>0.000000</td>\n",
       "      <td>0.000000</td>\n",
       "      <td>1.000000</td>\n",
       "      <td>0.000000</td>\n",
       "      <td>9.000000</td>\n",
       "      <td>0.400000</td>\n",
       "    </tr>\n",
       "    <tr>\n",
       "      <th>50%</th>\n",
       "      <td>8756.500000</td>\n",
       "      <td>1.000000</td>\n",
       "      <td>1.000000</td>\n",
       "      <td>1.000000</td>\n",
       "      <td>0.000000</td>\n",
       "      <td>30.000000</td>\n",
       "      <td>1.069500</td>\n",
       "    </tr>\n",
       "    <tr>\n",
       "      <th>75%</th>\n",
       "      <td>15702.500000</td>\n",
       "      <td>1.000000</td>\n",
       "      <td>1.000000</td>\n",
       "      <td>1.000000</td>\n",
       "      <td>0.000000</td>\n",
       "      <td>43.000000</td>\n",
       "      <td>3.781500</td>\n",
       "    </tr>\n",
       "    <tr>\n",
       "      <th>max</th>\n",
       "      <td>34153.000000</td>\n",
       "      <td>1.000000</td>\n",
       "      <td>1.000000</td>\n",
       "      <td>1.000000</td>\n",
       "      <td>1.000000</td>\n",
       "      <td>95.000000</td>\n",
       "      <td>173.604000</td>\n",
       "    </tr>\n",
       "  </tbody>\n",
       "</table>\n",
       "</div>"
      ],
      "text/plain": [
       "            CASENUM     ATTORNEY       CLMSEX     CLMINSUR     SEATBELT  \\\n",
       "count   1340.000000  1340.000000  1328.000000  1299.000000  1292.000000   \n",
       "mean   11202.001493     0.511194     0.558735     0.907621     0.017028   \n",
       "std     9512.750796     0.500061     0.496725     0.289671     0.129425   \n",
       "min        0.000000     0.000000     0.000000     0.000000     0.000000   \n",
       "25%     4177.000000     0.000000     0.000000     1.000000     0.000000   \n",
       "50%     8756.500000     1.000000     1.000000     1.000000     0.000000   \n",
       "75%    15702.500000     1.000000     1.000000     1.000000     0.000000   \n",
       "max    34153.000000     1.000000     1.000000     1.000000     1.000000   \n",
       "\n",
       "            CLMAGE         LOSS  \n",
       "count  1151.000000  1340.000000  \n",
       "mean     28.414422     3.806307  \n",
       "std      20.304451    10.636903  \n",
       "min       0.000000     0.000000  \n",
       "25%       9.000000     0.400000  \n",
       "50%      30.000000     1.069500  \n",
       "75%      43.000000     3.781500  \n",
       "max      95.000000   173.604000  "
      ]
     },
     "execution_count": 3,
     "metadata": {},
     "output_type": "execute_result"
    }
   ],
   "source": [
    "df.describe()"
   ]
  },
  {
   "cell_type": "code",
   "execution_count": 4,
   "id": "db88bed9",
   "metadata": {},
   "outputs": [],
   "source": [
    "df.drop(columns=['CASENUM'], inplace=True)"
   ]
  },
  {
   "cell_type": "code",
   "execution_count": 5,
   "id": "389048bb",
   "metadata": {},
   "outputs": [
    {
     "data": {
      "text/plain": [
       "ATTORNEY      0\n",
       "CLMSEX       12\n",
       "CLMINSUR     41\n",
       "SEATBELT     48\n",
       "CLMAGE      189\n",
       "LOSS          0\n",
       "dtype: int64"
      ]
     },
     "execution_count": 5,
     "metadata": {},
     "output_type": "execute_result"
    }
   ],
   "source": [
    "df.isna().sum()"
   ]
  },
  {
   "cell_type": "code",
   "execution_count": 6,
   "id": "3eb977f2",
   "metadata": {},
   "outputs": [
    {
     "data": {
      "text/plain": [
       "<Axes: >"
      ]
     },
     "execution_count": 6,
     "metadata": {},
     "output_type": "execute_result"
    },
    {
     "data": {
      "image/png": "[encoded data removed]",
      "text/plain": [
       "<Figure size 640x480 with 1 Axes>"
      ]
     },
     "metadata": {},
     "output_type": "display_data"
    }
   ],
   "source": [
    "df['CLMAGE'].hist()"
   ]
  },
  {
   "cell_type": "code",
   "execution_count": 7,
   "id": "f52e1149",
   "metadata": {},
   "outputs": [],
   "source": [
    "#Missing Value imputation\n",
    "from sklearn.impute import SimpleImputer"
   ]
  },
  {
   "cell_type": "code",
   "execution_count": 8,
   "id": "0e883c15",
   "metadata": {},
   "outputs": [],
   "source": [
    "si= SimpleImputer(strategy='most_frequent')"
   ]
  },
  {
   "cell_type": "code",
   "execution_count": 9,
   "id": "40ae0bf8",
   "metadata": {},
   "outputs": [
    {
     "data": {
      "text/html": [
       "<div>\n",
       "<style scoped>\n",
       "    .dataframe tbody tr th:only-of-type {\n",
       "        vertical-align: middle;\n",
       "    }\n",
       "\n",
       "    .dataframe tbody tr th {\n",
       "        vertical-align: top;\n",
       "    }\n",
       "\n",
       "    .dataframe thead th {\n",
       "        text-align: right;\n",
       "    }\n",
       "</style>\n",
       "<table border=\"1\" class=\"dataframe\">\n",
       "  <thead>\n",
       "    <tr style=\"text-align: right;\">\n",
       "      <th></th>\n",
       "      <th>ATTORNEY</th>\n",
       "      <th>CLMSEX</th>\n",
       "      <th>CLMINSUR</th>\n",
       "      <th>SEATBELT</th>\n",
       "      <th>CLMAGE</th>\n",
       "      <th>LOSS</th>\n",
       "    </tr>\n",
       "  </thead>\n",
       "  <tbody>\n",
       "    <tr>\n",
       "      <th>0</th>\n",
       "      <td>1</td>\n",
       "      <td>0.0</td>\n",
       "      <td>1.0</td>\n",
       "      <td>0.0</td>\n",
       "      <td>50.0</td>\n",
       "      <td>34.940</td>\n",
       "    </tr>\n",
       "    <tr>\n",
       "      <th>1</th>\n",
       "      <td>0</td>\n",
       "      <td>1.0</td>\n",
       "      <td>0.0</td>\n",
       "      <td>0.0</td>\n",
       "      <td>18.0</td>\n",
       "      <td>0.891</td>\n",
       "    </tr>\n",
       "    <tr>\n",
       "      <th>2</th>\n",
       "      <td>0</td>\n",
       "      <td>0.0</td>\n",
       "      <td>1.0</td>\n",
       "      <td>0.0</td>\n",
       "      <td>5.0</td>\n",
       "      <td>0.330</td>\n",
       "    </tr>\n",
       "    <tr>\n",
       "      <th>3</th>\n",
       "      <td>1</td>\n",
       "      <td>0.0</td>\n",
       "      <td>1.0</td>\n",
       "      <td>1.0</td>\n",
       "      <td>31.0</td>\n",
       "      <td>0.037</td>\n",
       "    </tr>\n",
       "    <tr>\n",
       "      <th>4</th>\n",
       "      <td>0</td>\n",
       "      <td>0.0</td>\n",
       "      <td>1.0</td>\n",
       "      <td>0.0</td>\n",
       "      <td>30.0</td>\n",
       "      <td>0.038</td>\n",
       "    </tr>\n",
       "  </tbody>\n",
       "</table>\n",
       "</div>"
      ],
      "text/plain": [
       "   ATTORNEY  CLMSEX  CLMINSUR  SEATBELT  CLMAGE    LOSS\n",
       "0         1     0.0       1.0       0.0    50.0  34.940\n",
       "1         0     1.0       0.0       0.0    18.0   0.891\n",
       "2         0     0.0       1.0       0.0     5.0   0.330\n",
       "3         1     0.0       1.0       1.0    31.0   0.037\n",
       "4         0     0.0       1.0       0.0    30.0   0.038"
      ]
     },
     "execution_count": 9,
     "metadata": {},
     "output_type": "execute_result"
    }
   ],
   "source": [
    "df.head()"
   ]
  },
  {
   "cell_type": "code",
   "execution_count": 10,
   "id": "4f845ce4",
   "metadata": {},
   "outputs": [],
   "source": [
    "df.iloc[:,1:4]= si.fit_transform(df.iloc[:,1:4])"
   ]
  },
  {
   "cell_type": "code",
   "execution_count": 11,
   "id": "7e5642ba",
   "metadata": {},
   "outputs": [
    {
     "data": {
      "text/plain": [
       "ATTORNEY      0\n",
       "CLMSEX        0\n",
       "CLMINSUR      0\n",
       "SEATBELT      0\n",
       "CLMAGE      189\n",
       "LOSS          0\n",
       "dtype: int64"
      ]
     },
     "execution_count": 11,
     "metadata": {},
     "output_type": "execute_result"
    }
   ],
   "source": [
    "df.isna().sum()"
   ]
  },
  {
   "cell_type": "code",
   "execution_count": 12,
   "id": "9b67d30a",
   "metadata": {},
   "outputs": [],
   "source": [
    "df['CLMAGE'].fillna(df['CLMAGE'].mean(), inplace=True)"
   ]
  },
  {
   "cell_type": "code",
   "execution_count": 13,
   "id": "ae376179",
   "metadata": {},
   "outputs": [],
   "source": [
    "#Splitting the data into training and testing set"
   ]
  },
  {
   "cell_type": "code",
   "execution_count": 14,
   "id": "f494eb00",
   "metadata": {},
   "outputs": [
    {
     "data": {
      "text/html": [
       "<div>\n",
       "<style scoped>\n",
       "    .dataframe tbody tr th:only-of-type {\n",
       "        vertical-align: middle;\n",
       "    }\n",
       "\n",
       "    .dataframe tbody tr th {\n",
       "        vertical-align: top;\n",
       "    }\n",
       "\n",
       "    .dataframe thead th {\n",
       "        text-align: right;\n",
       "    }\n",
       "</style>\n",
       "<table border=\"1\" class=\"dataframe\">\n",
       "  <thead>\n",
       "    <tr style=\"text-align: right;\">\n",
       "      <th></th>\n",
       "      <th>ATTORNEY</th>\n",
       "      <th>CLMSEX</th>\n",
       "      <th>CLMINSUR</th>\n",
       "      <th>SEATBELT</th>\n",
       "      <th>CLMAGE</th>\n",
       "      <th>LOSS</th>\n",
       "    </tr>\n",
       "  </thead>\n",
       "  <tbody>\n",
       "    <tr>\n",
       "      <th>0</th>\n",
       "      <td>1</td>\n",
       "      <td>0.0</td>\n",
       "      <td>1.0</td>\n",
       "      <td>0.0</td>\n",
       "      <td>50.0</td>\n",
       "      <td>34.940</td>\n",
       "    </tr>\n",
       "    <tr>\n",
       "      <th>1</th>\n",
       "      <td>0</td>\n",
       "      <td>1.0</td>\n",
       "      <td>0.0</td>\n",
       "      <td>0.0</td>\n",
       "      <td>18.0</td>\n",
       "      <td>0.891</td>\n",
       "    </tr>\n",
       "    <tr>\n",
       "      <th>2</th>\n",
       "      <td>0</td>\n",
       "      <td>0.0</td>\n",
       "      <td>1.0</td>\n",
       "      <td>0.0</td>\n",
       "      <td>5.0</td>\n",
       "      <td>0.330</td>\n",
       "    </tr>\n",
       "    <tr>\n",
       "      <th>3</th>\n",
       "      <td>1</td>\n",
       "      <td>0.0</td>\n",
       "      <td>1.0</td>\n",
       "      <td>1.0</td>\n",
       "      <td>31.0</td>\n",
       "      <td>0.037</td>\n",
       "    </tr>\n",
       "    <tr>\n",
       "      <th>4</th>\n",
       "      <td>0</td>\n",
       "      <td>0.0</td>\n",
       "      <td>1.0</td>\n",
       "      <td>0.0</td>\n",
       "      <td>30.0</td>\n",
       "      <td>0.038</td>\n",
       "    </tr>\n",
       "  </tbody>\n",
       "</table>\n",
       "</div>"
      ],
      "text/plain": [
       "   ATTORNEY  CLMSEX  CLMINSUR  SEATBELT  CLMAGE    LOSS\n",
       "0         1     0.0       1.0       0.0    50.0  34.940\n",
       "1         0     1.0       0.0       0.0    18.0   0.891\n",
       "2         0     0.0       1.0       0.0     5.0   0.330\n",
       "3         1     0.0       1.0       1.0    31.0   0.037\n",
       "4         0     0.0       1.0       0.0    30.0   0.038"
      ]
     },
     "execution_count": 14,
     "metadata": {},
     "output_type": "execute_result"
    }
   ],
   "source": [
    "df.head()"
   ]
  },
  {
   "cell_type": "code",
   "execution_count": 15,
   "id": "871fffbd",
   "metadata": {},
   "outputs": [
    {
     "data": {
      "text/plain": [
       "(1340, 6)"
      ]
     },
     "execution_count": 15,
     "metadata": {},
     "output_type": "execute_result"
    }
   ],
   "source": [
    "df.shape"
   ]
  },
  {
   "cell_type": "code",
   "execution_count": 16,
   "id": "1bcc31b9",
   "metadata": {},
   "outputs": [],
   "source": [
    "from sklearn.model_selection import train_test_split"
   ]
  },
  {
   "cell_type": "code",
   "execution_count": 17,
   "id": "90d9a2ac",
   "metadata": {},
   "outputs": [],
   "source": [
    "x = df.iloc[:,1:]"
   ]
  },
  {
   "cell_type": "code",
   "execution_count": 18,
   "id": "bf4da8aa",
   "metadata": {},
   "outputs": [],
   "source": [
    "y = df['ATTORNEY']"
   ]
  },
  {
   "cell_type": "code",
   "execution_count": 19,
   "id": "c2104209",
   "metadata": {},
   "outputs": [],
   "source": [
    "xtrain, xtest, ytrain, ytest= train_test_split(x, y, test_size=0.75, random_state=1)"
   ]
  },
  {
   "cell_type": "code",
   "execution_count": 20,
   "id": "583f3ebe",
   "metadata": {
    "scrolled": false
   },
   "outputs": [
    {
     "data": {
      "text/html": [
       "<div>\n",
       "<style scoped>\n",
       "    .dataframe tbody tr th:only-of-type {\n",
       "        vertical-align: middle;\n",
       "    }\n",
       "\n",
       "    .dataframe tbody tr th {\n",
       "        vertical-align: top;\n",
       "    }\n",
       "\n",
       "    .dataframe thead th {\n",
       "        text-align: right;\n",
       "    }\n",
       "</style>\n",
       "<table border=\"1\" class=\"dataframe\">\n",
       "  <thead>\n",
       "    <tr style=\"text-align: right;\">\n",
       "      <th></th>\n",
       "      <th>CLMSEX</th>\n",
       "      <th>CLMINSUR</th>\n",
       "      <th>SEATBELT</th>\n",
       "      <th>CLMAGE</th>\n",
       "      <th>LOSS</th>\n",
       "    </tr>\n",
       "  </thead>\n",
       "  <tbody>\n",
       "    <tr>\n",
       "      <th>1323</th>\n",
       "      <td>1.0</td>\n",
       "      <td>1.0</td>\n",
       "      <td>0.0</td>\n",
       "      <td>9.000000</td>\n",
       "      <td>5.460</td>\n",
       "    </tr>\n",
       "    <tr>\n",
       "      <th>676</th>\n",
       "      <td>0.0</td>\n",
       "      <td>1.0</td>\n",
       "      <td>0.0</td>\n",
       "      <td>28.414422</td>\n",
       "      <td>3.906</td>\n",
       "    </tr>\n",
       "    <tr>\n",
       "      <th>1129</th>\n",
       "      <td>0.0</td>\n",
       "      <td>1.0</td>\n",
       "      <td>0.0</td>\n",
       "      <td>10.000000</td>\n",
       "      <td>0.100</td>\n",
       "    </tr>\n",
       "    <tr>\n",
       "      <th>97</th>\n",
       "      <td>0.0</td>\n",
       "      <td>1.0</td>\n",
       "      <td>0.0</td>\n",
       "      <td>1.000000</td>\n",
       "      <td>34.571</td>\n",
       "    </tr>\n",
       "    <tr>\n",
       "      <th>662</th>\n",
       "      <td>1.0</td>\n",
       "      <td>1.0</td>\n",
       "      <td>0.0</td>\n",
       "      <td>0.000000</td>\n",
       "      <td>0.005</td>\n",
       "    </tr>\n",
       "    <tr>\n",
       "      <th>...</th>\n",
       "      <td>...</td>\n",
       "      <td>...</td>\n",
       "      <td>...</td>\n",
       "      <td>...</td>\n",
       "      <td>...</td>\n",
       "    </tr>\n",
       "    <tr>\n",
       "      <th>715</th>\n",
       "      <td>0.0</td>\n",
       "      <td>1.0</td>\n",
       "      <td>0.0</td>\n",
       "      <td>13.000000</td>\n",
       "      <td>6.979</td>\n",
       "    </tr>\n",
       "    <tr>\n",
       "      <th>905</th>\n",
       "      <td>0.0</td>\n",
       "      <td>1.0</td>\n",
       "      <td>0.0</td>\n",
       "      <td>28.414422</td>\n",
       "      <td>3.330</td>\n",
       "    </tr>\n",
       "    <tr>\n",
       "      <th>1096</th>\n",
       "      <td>0.0</td>\n",
       "      <td>1.0</td>\n",
       "      <td>0.0</td>\n",
       "      <td>50.000000</td>\n",
       "      <td>3.095</td>\n",
       "    </tr>\n",
       "    <tr>\n",
       "      <th>235</th>\n",
       "      <td>1.0</td>\n",
       "      <td>1.0</td>\n",
       "      <td>0.0</td>\n",
       "      <td>17.000000</td>\n",
       "      <td>1.619</td>\n",
       "    </tr>\n",
       "    <tr>\n",
       "      <th>1061</th>\n",
       "      <td>1.0</td>\n",
       "      <td>1.0</td>\n",
       "      <td>0.0</td>\n",
       "      <td>47.000000</td>\n",
       "      <td>0.480</td>\n",
       "    </tr>\n",
       "  </tbody>\n",
       "</table>\n",
       "<p>335 rows × 5 columns</p>\n",
       "</div>"
      ],
      "text/plain": [
       "      CLMSEX  CLMINSUR  SEATBELT     CLMAGE    LOSS\n",
       "1323     1.0       1.0       0.0   9.000000   5.460\n",
       "676      0.0       1.0       0.0  28.414422   3.906\n",
       "1129     0.0       1.0       0.0  10.000000   0.100\n",
       "97       0.0       1.0       0.0   1.000000  34.571\n",
       "662      1.0       1.0       0.0   0.000000   0.005\n",
       "...      ...       ...       ...        ...     ...\n",
       "715      0.0       1.0       0.0  13.000000   6.979\n",
       "905      0.0       1.0       0.0  28.414422   3.330\n",
       "1096     0.0       1.0       0.0  50.000000   3.095\n",
       "235      1.0       1.0       0.0  17.000000   1.619\n",
       "1061     1.0       1.0       0.0  47.000000   0.480\n",
       "\n",
       "[335 rows x 5 columns]"
      ]
     },
     "execution_count": 20,
     "metadata": {},
     "output_type": "execute_result"
    }
   ],
   "source": [
    "xtrain"
   ]
  },
  {
   "cell_type": "markdown",
   "id": "a44d35fb",
   "metadata": {},
   "source": [
    "Model Building"
   ]
  },
  {
   "cell_type": "code",
   "execution_count": 21,
   "id": "5fbbd826",
   "metadata": {},
   "outputs": [],
   "source": [
    "from sklearn.linear_model import LogisticRegression"
   ]
  },
  {
   "cell_type": "code",
   "execution_count": 22,
   "id": "10bee8a2",
   "metadata": {},
   "outputs": [],
   "source": [
    "lg = LogisticRegression()"
   ]
  },
  {
   "cell_type": "code",
   "execution_count": 23,
   "id": "1ce360a2",
   "metadata": {},
   "outputs": [],
   "source": [
    "#Train the model\n",
    "lg.fit(xtrain,ytrain)\n",
    "\n",
    "#Prediction\n",
    "ypred = lg.predict(xtest)"
   ]
  },
  {
   "cell_type": "code",
   "execution_count": 24,
   "id": "502b85ff",
   "metadata": {},
   "outputs": [
    {
     "data": {
      "text/plain": [
       "array([0, 0, 0, ..., 0, 1, 0], dtype=int64)"
      ]
     },
     "execution_count": 24,
     "metadata": {},
     "output_type": "execute_result"
    }
   ],
   "source": [
    "ypred"
   ]
  },
  {
   "cell_type": "code",
   "execution_count": 25,
   "id": "ba4b755e",
   "metadata": {},
   "outputs": [
    {
     "data": {
      "text/plain": [
       "1005"
      ]
     },
     "execution_count": 25,
     "metadata": {},
     "output_type": "execute_result"
    }
   ],
   "source": [
    "len(xtest)"
   ]
  },
  {
   "cell_type": "code",
   "execution_count": 26,
   "id": "a9255083",
   "metadata": {},
   "outputs": [
    {
     "data": {
      "text/plain": [
       "1005"
      ]
     },
     "execution_count": 26,
     "metadata": {},
     "output_type": "execute_result"
    }
   ],
   "source": [
    "len(ypred)"
   ]
  },
  {
   "cell_type": "markdown",
   "id": "2081acd6",
   "metadata": {},
   "source": [
    "Model Evaluation"
   ]
  },
  {
   "cell_type": "code",
   "execution_count": 27,
   "id": "94511406",
   "metadata": {},
   "outputs": [
    {
     "name": "stdout",
     "output_type": "stream",
     "text": [
      "[0 0 0 0 1 0 1 1 0 1 1 1 0 1 1 0 1 1 0 0 0 0 1 0 0]\n",
      "[0 0 0 0 1 0 0 1 0 0 0 0 0 1 0 1 0 0 0 0 0 0 1 0 0]\n"
     ]
    }
   ],
   "source": [
    "#Actual Values vs Predicted Values\n",
    "print(ytest[:25].values)\n",
    "print(ypred[:25])"
   ]
  },
  {
   "cell_type": "code",
   "execution_count": 28,
   "id": "a43418bf",
   "metadata": {},
   "outputs": [
    {
     "data": {
      "text/plain": [
       "array([[0.74973947, 0.25026053],\n",
       "       [0.74399634, 0.25600366],\n",
       "       [0.55235138, 0.44764862],\n",
       "       ...,\n",
       "       [0.5741501 , 0.4258499 ],\n",
       "       [0.01396428, 0.98603572],\n",
       "       [0.62403262, 0.37596738]])"
      ]
     },
     "execution_count": 28,
     "metadata": {},
     "output_type": "execute_result"
    }
   ],
   "source": [
    "lg.predict_proba(xtest)"
   ]
  },
  {
   "cell_type": "code",
   "execution_count": 29,
   "id": "05febacb",
   "metadata": {},
   "outputs": [],
   "source": [
    "#Classification Report\n",
    "from sklearn.metrics import classification_report, confusion_matrix"
   ]
  },
  {
   "cell_type": "code",
   "execution_count": 30,
   "id": "96e4dd3a",
   "metadata": {},
   "outputs": [
    {
     "name": "stdout",
     "output_type": "stream",
     "text": [
      "              precision    recall  f1-score   support\n",
      "\n",
      "           0       0.65      0.79      0.71       492\n",
      "           1       0.74      0.59      0.66       513\n",
      "\n",
      "    accuracy                           0.69      1005\n",
      "   macro avg       0.70      0.69      0.69      1005\n",
      "weighted avg       0.70      0.69      0.68      1005\n",
      "\n"
     ]
    }
   ],
   "source": [
    "print(classification_report(ytest,ypred))"
   ]
  },
  {
   "cell_type": "code",
   "execution_count": 31,
   "id": "a9e1d239",
   "metadata": {},
   "outputs": [
    {
     "data": {
      "text/plain": [
       "array([[387, 105],\n",
       "       [209, 304]], dtype=int64)"
      ]
     },
     "execution_count": 31,
     "metadata": {},
     "output_type": "execute_result"
    }
   ],
   "source": [
    "confusion_matrix(ytest, ypred)"
   ]
  },
  {
   "cell_type": "code",
   "execution_count": 32,
   "id": "4f9c4a07",
   "metadata": {},
   "outputs": [
    {
     "data": {
      "text/plain": [
       "Text(50.722222222222214, 0.5, 'Predicted Values')"
      ]
     },
     "execution_count": 32,
     "metadata": {},
     "output_type": "execute_result"
    },
    {
     "data": {
      "image/png": "[encoded data removed]",
      "text/plain": [
       "<Figure size 640x480 with 2 Axes>"
      ]
     },
     "metadata": {},
     "output_type": "display_data"
    }
   ],
   "source": [
    "sns.heatmap(confusion_matrix(ytest,ypred), annot=True)\n",
    "plt.xlabel('Actual Values')\n",
    "plt.ylabel('Predicted Values')"
   ]
  },
  {
   "cell_type": "code",
   "execution_count": 33,
   "id": "9b4b490c",
   "metadata": {},
   "outputs": [
    {
     "data": {
      "text/plain": [
       "array([0.25026053, 0.25600366, 0.44764862, ..., 0.4258499 , 0.98603572,\n",
       "       0.37596738])"
      ]
     },
     "execution_count": 33,
     "metadata": {},
     "output_type": "execute_result"
    }
   ],
   "source": [
    "proba= lg.predict_proba(xtest)[:,1]\n",
    "proba"
   ]
  },
  {
   "cell_type": "code",
   "execution_count": 34,
   "id": "41a17410",
   "metadata": {},
   "outputs": [],
   "source": [
    "#Threshold Selection"
   ]
  },
  {
   "cell_type": "code",
   "execution_count": 35,
   "id": "2af6ce19",
   "metadata": {},
   "outputs": [],
   "source": [
    "from sklearn.metrics import roc_auc_score, roc_curve, accuracy_score"
   ]
  },
  {
   "cell_type": "code",
   "execution_count": 36,
   "id": "a8080f45",
   "metadata": {
    "scrolled": false
   },
   "outputs": [
    {
     "data": {
      "text/plain": [
       "(array([0.        , 0.        , 0.        , 0.00203252, 0.00203252,\n",
       "        0.00406504, 0.00406504, 0.00813008, 0.00813008, 0.0101626 ,\n",
       "        0.0101626 , 0.01219512, 0.01219512, 0.01626016, 0.01626016,\n",
       "        0.01829268, 0.01829268, 0.01829268, 0.0203252 , 0.0203252 ,\n",
       "        0.02235772, 0.02235772, 0.02439024, 0.02439024, 0.02642276,\n",
       "        0.02642276, 0.02845528, 0.02845528, 0.0304878 , 0.0304878 ,\n",
       "        0.03252033, 0.03252033, 0.03455285, 0.03455285, 0.03861789,\n",
       "        0.03861789, 0.04268293, 0.04268293, 0.04471545, 0.04471545,\n",
       "        0.04674797, 0.04674797, 0.04878049, 0.04878049, 0.05081301,\n",
       "        0.05081301, 0.05487805, 0.05487805, 0.05894309, 0.05894309,\n",
       "        0.06097561, 0.06097561, 0.06300813, 0.06300813, 0.06504065,\n",
       "        0.06504065, 0.06504065, 0.06707317, 0.06707317, 0.06910569,\n",
       "        0.06910569, 0.07113821, 0.07113821, 0.07520325, 0.07520325,\n",
       "        0.07723577, 0.07723577, 0.07926829, 0.07926829, 0.08130081,\n",
       "        0.08130081, 0.08536585, 0.08536585, 0.08739837, 0.08739837,\n",
       "        0.08943089, 0.08943089, 0.09146341, 0.09146341, 0.09349593,\n",
       "        0.09349593, 0.09552846, 0.09552846, 0.09756098, 0.09756098,\n",
       "        0.10162602, 0.10162602, 0.10569106, 0.10569106, 0.10772358,\n",
       "        0.10772358, 0.1097561 , 0.1097561 , 0.11382114, 0.11382114,\n",
       "        0.11585366, 0.11585366, 0.1199187 , 0.1199187 , 0.12195122,\n",
       "        0.12195122, 0.12398374, 0.12601626, 0.12601626, 0.12804878,\n",
       "        0.12804878, 0.13211382, 0.13211382, 0.13414634, 0.13414634,\n",
       "        0.13821138, 0.13821138, 0.1402439 , 0.1402439 , 0.14837398,\n",
       "        0.14837398, 0.1504065 , 0.1504065 , 0.15243902, 0.15243902,\n",
       "        0.15650407, 0.15650407, 0.15853659, 0.15853659, 0.16056911,\n",
       "        0.16056911, 0.16260163, 0.16260163, 0.17073171, 0.17073171,\n",
       "        0.17276423, 0.17276423, 0.17479675, 0.17479675, 0.17682927,\n",
       "        0.17682927, 0.17886179, 0.17886179, 0.18089431, 0.18089431,\n",
       "        0.18292683, 0.18292683, 0.18495935, 0.18495935, 0.18699187,\n",
       "        0.18699187, 0.19105691, 0.19105691, 0.19918699, 0.19918699,\n",
       "        0.20121951, 0.20121951, 0.20325203, 0.20325203, 0.20528455,\n",
       "        0.20528455, 0.21341463, 0.21341463, 0.21544715, 0.21544715,\n",
       "        0.21747967, 0.21747967, 0.2195122 , 0.2195122 , 0.22154472,\n",
       "        0.22154472, 0.23170732, 0.23170732, 0.23780488, 0.23780488,\n",
       "        0.2398374 , 0.2398374 , 0.24796748, 0.24796748, 0.25      ,\n",
       "        0.25      , 0.25813008, 0.25813008, 0.2601626 , 0.2601626 ,\n",
       "        0.26626016, 0.26626016, 0.26829268, 0.26829268, 0.27235772,\n",
       "        0.27235772, 0.27439024, 0.27439024, 0.27642276, 0.27642276,\n",
       "        0.27845528, 0.27845528, 0.28252033, 0.28252033, 0.28455285,\n",
       "        0.28455285, 0.28861789, 0.29065041, 0.29674797, 0.29674797,\n",
       "        0.29878049, 0.29878049, 0.30081301, 0.30081301, 0.30284553,\n",
       "        0.30691057, 0.30691057, 0.30894309, 0.30894309, 0.31097561,\n",
       "        0.31097561, 0.31707317, 0.31707317, 0.32317073, 0.32317073,\n",
       "        0.32520325, 0.32520325, 0.33943089, 0.33943089, 0.34756098,\n",
       "        0.34756098, 0.35772358, 0.35772358, 0.3597561 , 0.3597561 ,\n",
       "        0.36178862, 0.36178862, 0.36382114, 0.36382114, 0.36585366,\n",
       "        0.36585366, 0.36788618, 0.36788618, 0.3699187 , 0.3699187 ,\n",
       "        0.37398374, 0.37398374, 0.37804878, 0.37804878, 0.38211382,\n",
       "        0.38211382, 0.38414634, 0.38414634, 0.38821138, 0.38821138,\n",
       "        0.39227642, 0.39227642, 0.39430894, 0.39430894, 0.40243902,\n",
       "        0.40243902, 0.40447154, 0.40447154, 0.40853659, 0.40853659,\n",
       "        0.41463415, 0.41463415, 0.42276423, 0.42276423, 0.42682927,\n",
       "        0.42682927, 0.42886179, 0.42886179, 0.43089431, 0.43089431,\n",
       "        0.43292683, 0.43292683, 0.43495935, 0.43495935, 0.43902439,\n",
       "        0.43902439, 0.44918699, 0.44918699, 0.46544715, 0.46544715,\n",
       "        0.48373984, 0.48373984, 0.49186992, 0.49186992, 0.49390244,\n",
       "        0.49390244, 0.5       , 0.5       , 0.50203252, 0.50609756,\n",
       "        0.50813008, 0.50813008, 0.51422764, 0.51422764, 0.51829268,\n",
       "        0.51829268, 0.5304878 , 0.5304878 , 0.54878049, 0.55284553,\n",
       "        0.55691057, 0.55691057, 0.56097561, 0.56097561, 0.56300813,\n",
       "        0.56300813, 0.58130081, 0.58130081, 0.58333333, 0.58333333,\n",
       "        0.59146341, 0.59146341, 0.59552846, 0.59552846, 0.5995935 ,\n",
       "        0.5995935 , 0.60162602, 0.60162602, 0.60569106, 0.60569106,\n",
       "        0.61382114, 0.61382114, 0.62195122, 0.62195122, 0.62601626,\n",
       "        0.62601626, 0.64430894, 0.64430894, 0.6504065 , 0.6504065 ,\n",
       "        0.65447154, 0.66463415, 0.66463415, 0.66666667, 0.66666667,\n",
       "        0.67682927, 0.67682927, 0.68089431, 0.68089431, 0.68292683,\n",
       "        0.68292683, 0.68495935, 0.68495935, 0.68699187, 0.68699187,\n",
       "        0.69105691, 0.69105691, 0.69715447, 0.69715447, 0.70121951,\n",
       "        0.70121951, 0.70731707, 0.70731707, 0.70731707, 0.70934959,\n",
       "        0.70934959, 0.71138211, 0.71138211, 0.71544715, 0.71544715,\n",
       "        0.72154472, 0.72154472, 0.72357724, 0.72357724, 0.73170732,\n",
       "        0.73577236, 0.73577236, 0.74593496, 0.74593496, 0.75203252,\n",
       "        0.75203252, 0.7601626 , 0.76829268, 0.76829268, 0.78252033,\n",
       "        0.78252033, 0.78455285, 0.78455285, 0.79268293, 0.79268293,\n",
       "        0.79471545, 0.79471545, 0.79674797, 0.79674797, 0.81300813,\n",
       "        0.81300813, 0.81707317, 0.81910569, 0.82113821, 0.82113821,\n",
       "        0.82317073, 0.82317073, 0.83130081, 0.83536585, 0.85365854,\n",
       "        0.85365854, 0.85569106, 0.85569106, 0.87601626, 0.87601626,\n",
       "        0.87804878, 0.87804878, 0.8800813 , 0.8800813 , 0.88821138,\n",
       "        0.89227642, 0.89430894, 0.89837398, 0.89837398, 0.90650407,\n",
       "        0.90650407, 0.90853659, 0.90853659, 0.93292683, 0.93292683,\n",
       "        0.94918699, 0.94918699, 0.95528455, 0.95528455, 0.95731707,\n",
       "        0.95731707, 0.96544715, 0.96544715, 0.97154472, 0.97154472,\n",
       "        0.97357724, 0.97357724, 0.98170732, 0.98170732, 0.98780488,\n",
       "        0.98780488, 0.99186992, 0.99186992, 1.        ]),\n",
       " array([0.        , 0.00389864, 0.00779727, 0.00779727, 0.08576998,\n",
       "        0.08576998, 0.08966862, 0.08966862, 0.0994152 , 0.0994152 ,\n",
       "        0.10916179, 0.10916179, 0.11111111, 0.11111111, 0.12670565,\n",
       "        0.12670565, 0.12865497, 0.13255361, 0.13255361, 0.13450292,\n",
       "        0.13450292, 0.14619883, 0.14619883, 0.15009747, 0.15009747,\n",
       "        0.1539961 , 0.1539961 , 0.16764133, 0.16764133, 0.18128655,\n",
       "        0.18128655, 0.19103314, 0.19103314, 0.19883041, 0.19883041,\n",
       "        0.208577  , 0.208577  , 0.21637427, 0.21637427, 0.22222222,\n",
       "        0.22222222, 0.22807018, 0.22807018, 0.23196881, 0.23196881,\n",
       "        0.23586745, 0.23586745, 0.23781676, 0.23781676, 0.25536062,\n",
       "        0.25536062, 0.25730994, 0.25730994, 0.26315789, 0.26315789,\n",
       "        0.26705653, 0.27875244, 0.27875244, 0.28265107, 0.28265107,\n",
       "        0.29044834, 0.29044834, 0.29239766, 0.29239766, 0.32553606,\n",
       "        0.32553606, 0.33528265, 0.33528265, 0.34502924, 0.34502924,\n",
       "        0.35282651, 0.35282651, 0.35477583, 0.35477583, 0.36062378,\n",
       "        0.36062378, 0.3625731 , 0.3625731 , 0.37037037, 0.37037037,\n",
       "        0.38791423, 0.38791423, 0.39766082, 0.39766082, 0.39961014,\n",
       "        0.39961014, 0.40935673, 0.40935673, 0.41325536, 0.41325536,\n",
       "        0.41910331, 0.41910331, 0.42105263, 0.42105263, 0.43274854,\n",
       "        0.43274854, 0.44444444, 0.44444444, 0.44834308, 0.44834308,\n",
       "        0.45419103, 0.45419103, 0.45614035, 0.46393762, 0.46393762,\n",
       "        0.47173489, 0.47173489, 0.47563353, 0.47563353, 0.47758285,\n",
       "        0.47758285, 0.47953216, 0.47953216, 0.48927875, 0.48927875,\n",
       "        0.49512671, 0.49512671, 0.49707602, 0.49707602, 0.50682261,\n",
       "        0.50682261, 0.50877193, 0.50877193, 0.51072125, 0.51072125,\n",
       "        0.5165692 , 0.5165692 , 0.52046784, 0.52046784, 0.52631579,\n",
       "        0.52631579, 0.53021442, 0.53021442, 0.53606238, 0.53606238,\n",
       "        0.5380117 , 0.5380117 , 0.54385965, 0.54385965, 0.5497076 ,\n",
       "        0.5497076 , 0.55165692, 0.55165692, 0.55360624, 0.55360624,\n",
       "        0.55945419, 0.55945419, 0.5711501 , 0.5711501 , 0.57309942,\n",
       "        0.57309942, 0.57504873, 0.57504873, 0.58479532, 0.58479532,\n",
       "        0.58869396, 0.58869396, 0.59649123, 0.59649123, 0.59844055,\n",
       "        0.59844055, 0.61013645, 0.61013645, 0.61793372, 0.61793372,\n",
       "        0.62962963, 0.62962963, 0.63157895, 0.63157895, 0.64522417,\n",
       "        0.64522417, 0.64717349, 0.64717349, 0.65302144, 0.65302144,\n",
       "        0.65497076, 0.65497076, 0.6588694 , 0.6588694 , 0.66081871,\n",
       "        0.66081871, 0.66471735, 0.66471735, 0.66666667, 0.66666667,\n",
       "        0.6705653 , 0.6705653 , 0.67446394, 0.67446394, 0.67836257,\n",
       "        0.67836257, 0.68031189, 0.68031189, 0.68226121, 0.68226121,\n",
       "        0.68421053, 0.68421053, 0.68615984, 0.68615984, 0.68810916,\n",
       "        0.68810916, 0.6920078 , 0.6920078 , 0.69395712, 0.69395712,\n",
       "        0.69395712, 0.69590643, 0.69590643, 0.70175439, 0.70175439,\n",
       "        0.70565302, 0.70565302, 0.70760234, 0.70760234, 0.71150097,\n",
       "        0.71150097, 0.71539961, 0.71539961, 0.71734893, 0.71734893,\n",
       "        0.71929825, 0.71929825, 0.72319688, 0.72319688, 0.7251462 ,\n",
       "        0.7251462 , 0.72709552, 0.72709552, 0.72904483, 0.72904483,\n",
       "        0.73099415, 0.73099415, 0.73294347, 0.73294347, 0.73489279,\n",
       "        0.73489279, 0.74269006, 0.74269006, 0.74463938, 0.74463938,\n",
       "        0.74658869, 0.74658869, 0.74853801, 0.74853801, 0.75243665,\n",
       "        0.75243665, 0.76023392, 0.76023392, 0.76413255, 0.76413255,\n",
       "        0.76608187, 0.76608187, 0.76803119, 0.76803119, 0.76998051,\n",
       "        0.76998051, 0.77192982, 0.77192982, 0.77387914, 0.77387914,\n",
       "        0.77777778, 0.77777778, 0.78167641, 0.78167641, 0.78362573,\n",
       "        0.78362573, 0.78557505, 0.78557505, 0.78947368, 0.78947368,\n",
       "        0.79337232, 0.79337232, 0.79532164, 0.79532164, 0.79727096,\n",
       "        0.79727096, 0.80116959, 0.80116959, 0.80896686, 0.80896686,\n",
       "        0.82261209, 0.82261209, 0.8245614 , 0.8245614 , 0.8245614 ,\n",
       "        0.8245614 , 0.82651072, 0.82651072, 0.82846004, 0.82846004,\n",
       "        0.83040936, 0.83040936, 0.83430799, 0.83430799, 0.83625731,\n",
       "        0.83625731, 0.84210526, 0.84210526, 0.84405458, 0.84405458,\n",
       "        0.84990253, 0.84990253, 0.85380117, 0.85380117, 0.85575049,\n",
       "        0.85575049, 0.85769981, 0.85769981, 0.85964912, 0.85964912,\n",
       "        0.86354776, 0.86354776, 0.86549708, 0.86549708, 0.86744639,\n",
       "        0.86744639, 0.86939571, 0.86939571, 0.87134503, 0.87134503,\n",
       "        0.87524366, 0.87524366, 0.87719298, 0.87719298, 0.8791423 ,\n",
       "        0.8791423 , 0.8791423 , 0.88109162, 0.88109162, 0.88304094,\n",
       "        0.88304094, 0.88499025, 0.88499025, 0.88693957, 0.88693957,\n",
       "        0.89083821, 0.89083821, 0.89473684, 0.89473684, 0.89668616,\n",
       "        0.89668616, 0.89863548, 0.89863548, 0.9005848 , 0.9005848 ,\n",
       "        0.90253411, 0.90253411, 0.90448343, 0.90838207, 0.90838207,\n",
       "        0.91423002, 0.91423002, 0.91617934, 0.91617934, 0.91812865,\n",
       "        0.91812865, 0.92202729, 0.92202729, 0.92592593, 0.92592593,\n",
       "        0.92592593, 0.93177388, 0.93177388, 0.9337232 , 0.9337232 ,\n",
       "        0.93567251, 0.93567251, 0.93567251, 0.93762183, 0.93762183,\n",
       "        0.93957115, 0.93957115, 0.94152047, 0.94152047, 0.94346979,\n",
       "        0.94346979, 0.9454191 , 0.9454191 , 0.94736842, 0.94736842,\n",
       "        0.94931774, 0.94931774, 0.95126706, 0.95126706, 0.95321637,\n",
       "        0.95321637, 0.95516569, 0.95516569, 0.95516569, 0.95516569,\n",
       "        0.95711501, 0.95711501, 0.96101365, 0.96101365, 0.96491228,\n",
       "        0.96491228, 0.9668616 , 0.9668616 , 0.96881092, 0.96881092,\n",
       "        0.96881092, 0.96881092, 0.96881092, 0.97076023, 0.97076023,\n",
       "        0.97270955, 0.97270955, 0.97660819, 0.97660819, 0.9785575 ,\n",
       "        0.9785575 , 0.98050682, 0.98050682, 0.98245614, 0.98245614,\n",
       "        0.98440546, 0.98440546, 0.98635478, 0.98635478, 0.99220273,\n",
       "        0.99220273, 0.99415205, 0.99415205, 0.99610136, 0.99610136,\n",
       "        0.99805068, 0.99805068, 1.        , 1.        ]),\n",
       " array([2.        , 1.        , 1.        , 1.        , 0.95750855,\n",
       "        0.95547743, 0.94602916, 0.94355941, 0.93587123, 0.93169172,\n",
       "        0.92146737, 0.91714996, 0.91621224, 0.91301723, 0.89821404,\n",
       "        0.89517082, 0.89487558, 0.88989465, 0.88981633, 0.88801024,\n",
       "        0.88486724, 0.87922682, 0.87483357, 0.8699311 , 0.86939464,\n",
       "        0.86709899, 0.86572846, 0.85012074, 0.84529908, 0.82232164,\n",
       "        0.82218981, 0.81491137, 0.81418565, 0.81089646, 0.80698699,\n",
       "        0.80025696, 0.79976405, 0.79591951, 0.79452593, 0.78525523,\n",
       "        0.78359898, 0.78086593, 0.77891082, 0.77481014, 0.77374851,\n",
       "        0.77083962, 0.77068024, 0.76966988, 0.7684526 , 0.75357695,\n",
       "        0.753383  , 0.7524299 , 0.74927601, 0.74454262, 0.73945256,\n",
       "        0.73645383, 0.72674734, 0.72554971, 0.7198506 , 0.71901034,\n",
       "        0.71307783, 0.71288199, 0.71258678, 0.71066959, 0.69636684,\n",
       "        0.69601671, 0.68836153, 0.68461848, 0.67818797, 0.67794659,\n",
       "        0.67547296, 0.67329861, 0.6724101 , 0.67057841, 0.6691195 ,\n",
       "        0.66879785, 0.66567652, 0.66492722, 0.66116223, 0.66110646,\n",
       "        0.65387405, 0.65238718, 0.64755893, 0.6472645 , 0.64568491,\n",
       "        0.64436686, 0.64066844, 0.6397717 , 0.63812228, 0.63686775,\n",
       "        0.63182324, 0.63135087, 0.63127632, 0.6303976 , 0.62553012,\n",
       "        0.62352682, 0.62026413, 0.61969619, 0.61708698, 0.6151995 ,\n",
       "        0.61351123, 0.61288557, 0.61249741, 0.61000569, 0.60920047,\n",
       "        0.60293508, 0.60172047, 0.59768068, 0.59644643, 0.59625293,\n",
       "        0.59532157, 0.59458907, 0.59447144, 0.59125744, 0.58288264,\n",
       "        0.57858347, 0.57751895, 0.57639255, 0.57548364, 0.57199154,\n",
       "        0.57082703, 0.56907035, 0.56888578, 0.56871934, 0.56778818,\n",
       "        0.56442917, 0.5638184 , 0.5628403 , 0.56028433, 0.55767439,\n",
       "        0.55751715, 0.55552648, 0.55362599, 0.54813937, 0.54689713,\n",
       "        0.54663655, 0.54561949, 0.54378013, 0.54247444, 0.54078241,\n",
       "        0.54074403, 0.54048799, 0.5370144 , 0.5361879 , 0.53517334,\n",
       "        0.53286288, 0.53022439, 0.52521868, 0.52329603, 0.52266508,\n",
       "        0.52240326, 0.52230356, 0.52022065, 0.51164357, 0.510751  ,\n",
       "        0.5093848 , 0.50527389, 0.49884897, 0.49816805, 0.49653961,\n",
       "        0.49547192, 0.48611999, 0.48600527, 0.48136181, 0.48101708,\n",
       "        0.46827439, 0.46407887, 0.46223921, 0.45779625, 0.45233615,\n",
       "        0.45152278, 0.44789303, 0.44501066, 0.44400104, 0.44165848,\n",
       "        0.44162505, 0.43820385, 0.43666375, 0.43627272, 0.43391431,\n",
       "        0.43278095, 0.43187729, 0.43055487, 0.42970851, 0.4292578 ,\n",
       "        0.42850142, 0.42839541, 0.42702144, 0.42694498, 0.4258499 ,\n",
       "        0.42525712, 0.42468547, 0.42302214, 0.4204053 , 0.42040481,\n",
       "        0.42018566, 0.42011467, 0.41968974, 0.41777679, 0.41759821,\n",
       "        0.4174287 , 0.41642417, 0.41553221, 0.41463903, 0.41451644,\n",
       "        0.41449468, 0.41442043, 0.41404658, 0.41286594, 0.41278228,\n",
       "        0.41231698, 0.41035618, 0.40789993, 0.40681113, 0.40493706,\n",
       "        0.40491466, 0.40272287, 0.39854684, 0.39843145, 0.39797825,\n",
       "        0.39760729, 0.3953948 , 0.3946811 , 0.39430118, 0.39426567,\n",
       "        0.39423157, 0.39348859, 0.39344667, 0.39152755, 0.39094701,\n",
       "        0.3897177 , 0.38812586, 0.38790915, 0.38751186, 0.38626987,\n",
       "        0.38390888, 0.38146401, 0.38111739, 0.38070262, 0.38062972,\n",
       "        0.38040321, 0.38005774, 0.37978517, 0.3794367 , 0.37865347,\n",
       "        0.37788441, 0.3760865 , 0.37596738, 0.37568816, 0.37455774,\n",
       "        0.37426451, 0.3740573 , 0.37382804, 0.37166332, 0.37147516,\n",
       "        0.37095301, 0.37073507, 0.36980781, 0.36955656, 0.3684215 ,\n",
       "        0.36814152, 0.36743417, 0.3664752 , 0.36620121, 0.36611726,\n",
       "        0.36594854, 0.36590524, 0.36580022, 0.36389742, 0.36334507,\n",
       "        0.36142522, 0.35961447, 0.35905803, 0.35639288, 0.35603925,\n",
       "        0.35207677, 0.35170298, 0.34777692, 0.34641579, 0.34614815,\n",
       "        0.34313462, 0.34172925, 0.34165986, 0.34145564, 0.34067675,\n",
       "        0.34054328, 0.34018325, 0.33916008, 0.33865124, 0.33789988,\n",
       "        0.33788903, 0.33551832, 0.33528484, 0.33118614, 0.33092197,\n",
       "        0.33016544, 0.32912612, 0.32837386, 0.32836256, 0.32827271,\n",
       "        0.32784792, 0.32477877, 0.32453488, 0.32423472, 0.32369143,\n",
       "        0.32204547, 0.32154954, 0.31999785, 0.31985163, 0.3193464 ,\n",
       "        0.31855468, 0.31811374, 0.31708544, 0.31599888, 0.31592924,\n",
       "        0.31531614, 0.31485104, 0.31356584, 0.31268036, 0.31168492,\n",
       "        0.31079606, 0.30650526, 0.30646335, 0.30610482, 0.3058536 ,\n",
       "        0.30557748, 0.30414499, 0.30372327, 0.30352369, 0.30324085,\n",
       "        0.30094537, 0.30052729, 0.29863211, 0.29793243, 0.2972058 ,\n",
       "        0.2969403 , 0.29666031, 0.29661628, 0.29621982, 0.29553623,\n",
       "        0.29535052, 0.29525701, 0.29461637, 0.29450558, 0.29333957,\n",
       "        0.29316199, 0.29109638, 0.29050168, 0.29044039, 0.29017398,\n",
       "        0.28955671, 0.28821436, 0.28812286, 0.28686864, 0.28684281,\n",
       "        0.28642113, 0.28592388, 0.2859061 , 0.28499153, 0.28409325,\n",
       "        0.28409099, 0.28361176, 0.28231482, 0.28225789, 0.28119508,\n",
       "        0.28091922, 0.28086736, 0.27976415, 0.27939631, 0.27438021,\n",
       "        0.27425215, 0.27406693, 0.27322256, 0.27172496, 0.27125506,\n",
       "        0.27110127, 0.27109569, 0.27093883, 0.27078436, 0.26780836,\n",
       "        0.26707836, 0.26625188, 0.2654758 , 0.26540364, 0.2650883 ,\n",
       "        0.26459637, 0.26428573, 0.26217608, 0.26198352, 0.25475638,\n",
       "        0.25446163, 0.25363276, 0.25302338, 0.24765842, 0.24661756,\n",
       "        0.24617967, 0.24589812, 0.2458148 , 0.24554578, 0.24459006,\n",
       "        0.24311359, 0.24287429, 0.24250889, 0.24225052, 0.24054484,\n",
       "        0.239474  , 0.23941985, 0.23798352, 0.2279144 , 0.22758249,\n",
       "        0.22117288, 0.21885426, 0.21486085, 0.21475181, 0.21431656,\n",
       "        0.21285518, 0.21099599, 0.20858337, 0.2076973 , 0.20425514,\n",
       "        0.20363776, 0.20047256, 0.1950401 , 0.19277332, 0.18897245,\n",
       "        0.18876062, 0.18011098, 0.17934892, 0.16338043]))"
      ]
     },
     "execution_count": 36,
     "metadata": {},
     "output_type": "execute_result"
    }
   ],
   "source": [
    "roc_curve(ytest,proba)"
   ]
  },
  {
   "cell_type": "code",
   "execution_count": 37,
   "id": "24cde350",
   "metadata": {},
   "outputs": [
    {
     "data": {
      "text/plain": [
       "[<matplotlib.lines.Line2D at 0x2c2ec3b8b50>]"
      ]
     },
     "execution_count": 37,
     "metadata": {},
     "output_type": "execute_result"
    },
    {
     "data": {
      "image/png": "[encoded data removed]",
      "text/plain": [
       "<Figure size 640x480 with 1 Axes>"
      ]
     },
     "metadata": {},
     "output_type": "display_data"
    }
   ],
   "source": [
    "fpr,tpr,threshold = roc_curve(ytest,proba)\n",
    "plt.plot(fpr,tpr)"
   ]
  },
  {
   "cell_type": "code",
   "execution_count": 38,
   "id": "bfd53b44",
   "metadata": {},
   "outputs": [
    {
     "data": {
      "text/plain": [
       "0.7477238149574478"
      ]
     },
     "execution_count": 38,
     "metadata": {},
     "output_type": "execute_result"
    }
   ],
   "source": [
    "auc=roc_auc_score(ytest,proba)\n",
    "auc"
   ]
  },
  {
   "cell_type": "code",
   "execution_count": 39,
   "id": "ccb804bc",
   "metadata": {},
   "outputs": [
    {
     "data": {
      "text/plain": [
       "<matplotlib.legend.Legend at 0x2c2ec3ef310>"
      ]
     },
     "execution_count": 39,
     "metadata": {},
     "output_type": "execute_result"
    },
    {
     "data": {
      "image/png": "[encoded data removed]",
      "text/plain": [
       "<Figure size 640x480 with 1 Axes>"
      ]
     },
     "metadata": {},
     "output_type": "display_data"
    }
   ],
   "source": [
    "fpr,tpr,threshold = roc_curve(ytest,proba)\n",
    "plt.plot(fpr,tpr,label='(AUC = %0.2f)'%auc)\n",
    "plt.legend()"
   ]
  },
  {
   "cell_type": "code",
   "execution_count": 40,
   "id": "547dff42",
   "metadata": {},
   "outputs": [
    {
     "data": {
      "text/plain": [
       "0.7477238149574478"
      ]
     },
     "execution_count": 40,
     "metadata": {},
     "output_type": "execute_result"
    }
   ],
   "source": [
    "auc"
   ]
  },
  {
   "cell_type": "code",
   "execution_count": 41,
   "id": "e57bc322",
   "metadata": {},
   "outputs": [
    {
     "data": {
      "text/plain": [
       "array([0.25026053, 0.25600366, 0.44764862, ..., 0.4258499 , 0.98603572,\n",
       "       0.37596738])"
      ]
     },
     "execution_count": 41,
     "metadata": {},
     "output_type": "execute_result"
    }
   ],
   "source": [
    "proba"
   ]
  },
  {
   "cell_type": "code",
   "execution_count": 42,
   "id": "078a5971",
   "metadata": {},
   "outputs": [
    {
     "data": {
      "text/plain": [
       "429"
      ]
     },
     "execution_count": 42,
     "metadata": {},
     "output_type": "execute_result"
    }
   ],
   "source": [
    "len(threshold)"
   ]
  },
  {
   "cell_type": "code",
   "execution_count": 43,
   "id": "3e56ca99",
   "metadata": {},
   "outputs": [],
   "source": [
    "accuracy = []\n",
    "\n",
    "for i in threshold:\n",
    "    ypred = np.where(proba>i,1,0)\n",
    "    accuracy.append(accuracy_score(ytest,ypred))\n",
    "\n",
    "final_threshold = pd.concat([pd.Series(threshold),pd.Series(accuracy)], axis=1)\n",
    "final_threshold.columns = ['Threshold','Accuracy']"
   ]
  },
  {
   "cell_type": "code",
   "execution_count": 44,
   "id": "4d91c57d",
   "metadata": {},
   "outputs": [
    {
     "data": {
      "text/html": [
       "<div>\n",
       "<style scoped>\n",
       "    .dataframe tbody tr th:only-of-type {\n",
       "        vertical-align: middle;\n",
       "    }\n",
       "\n",
       "    .dataframe tbody tr th {\n",
       "        vertical-align: top;\n",
       "    }\n",
       "\n",
       "    .dataframe thead th {\n",
       "        text-align: right;\n",
       "    }\n",
       "</style>\n",
       "<table border=\"1\" class=\"dataframe\">\n",
       "  <thead>\n",
       "    <tr style=\"text-align: right;\">\n",
       "      <th></th>\n",
       "      <th>Threshold</th>\n",
       "      <th>Accuracy</th>\n",
       "    </tr>\n",
       "  </thead>\n",
       "  <tbody>\n",
       "    <tr>\n",
       "      <th>170</th>\n",
       "      <td>0.451523</td>\n",
       "      <td>0.702488</td>\n",
       "    </tr>\n",
       "    <tr>\n",
       "      <th>171</th>\n",
       "      <td>0.447893</td>\n",
       "      <td>0.701493</td>\n",
       "    </tr>\n",
       "    <tr>\n",
       "      <th>165</th>\n",
       "      <td>0.468274</td>\n",
       "      <td>0.701493</td>\n",
       "    </tr>\n",
       "    <tr>\n",
       "      <th>174</th>\n",
       "      <td>0.441658</td>\n",
       "      <td>0.701493</td>\n",
       "    </tr>\n",
       "    <tr>\n",
       "      <th>169</th>\n",
       "      <td>0.452336</td>\n",
       "      <td>0.701493</td>\n",
       "    </tr>\n",
       "    <tr>\n",
       "      <th>...</th>\n",
       "      <td>...</td>\n",
       "      <td>...</td>\n",
       "    </tr>\n",
       "    <tr>\n",
       "      <th>428</th>\n",
       "      <td>0.163380</td>\n",
       "      <td>0.511443</td>\n",
       "    </tr>\n",
       "    <tr>\n",
       "      <th>3</th>\n",
       "      <td>1.000000</td>\n",
       "      <td>0.493532</td>\n",
       "    </tr>\n",
       "    <tr>\n",
       "      <th>2</th>\n",
       "      <td>1.000000</td>\n",
       "      <td>0.492537</td>\n",
       "    </tr>\n",
       "    <tr>\n",
       "      <th>1</th>\n",
       "      <td>1.000000</td>\n",
       "      <td>0.489552</td>\n",
       "    </tr>\n",
       "    <tr>\n",
       "      <th>0</th>\n",
       "      <td>2.000000</td>\n",
       "      <td>0.489552</td>\n",
       "    </tr>\n",
       "  </tbody>\n",
       "</table>\n",
       "<p>429 rows × 2 columns</p>\n",
       "</div>"
      ],
      "text/plain": [
       "     Threshold  Accuracy\n",
       "170   0.451523  0.702488\n",
       "171   0.447893  0.701493\n",
       "165   0.468274  0.701493\n",
       "174   0.441658  0.701493\n",
       "169   0.452336  0.701493\n",
       "..         ...       ...\n",
       "428   0.163380  0.511443\n",
       "3     1.000000  0.493532\n",
       "2     1.000000  0.492537\n",
       "1     1.000000  0.489552\n",
       "0     2.000000  0.489552\n",
       "\n",
       "[429 rows x 2 columns]"
      ]
     },
     "execution_count": 44,
     "metadata": {},
     "output_type": "execute_result"
    }
   ],
   "source": [
    "final_threshold.sort_values(by='Accuracy', ascending=False)"
   ]
  },
  {
   "cell_type": "code",
   "execution_count": 45,
   "id": "935dfdd7",
   "metadata": {},
   "outputs": [],
   "source": [
    "accuracy=[]\n",
    "for i in threshold:\n",
    "    ypred=np.where(proba> i, 1,0)\n",
    "    accuracy.append(accuracy_score(ytest,ypred))"
   ]
  },
  {
   "cell_type": "code",
   "execution_count": 46,
   "id": "1daa4282",
   "metadata": {
    "scrolled": false
   },
   "outputs": [
    {
     "data": {
      "text/plain": [
       "[0.48955223880597015,\n",
       " 0.48955223880597015,\n",
       " 0.4925373134328358,\n",
       " 0.4935323383084577,\n",
       " 0.5313432835820896,\n",
       " 0.5323383084577115,\n",
       " 0.5323383084577115,\n",
       " 0.5323383084577115,\n",
       " 0.5353233830845772,\n",
       " 0.536318407960199,\n",
       " 0.5393034825870647,\n",
       " 0.5402985074626866,\n",
       " 0.5393034825870647,\n",
       " 0.5393034825870647,\n",
       " 0.545273631840796,\n",
       " 0.5462686567164179,\n",
       " 0.545273631840796,\n",
       " 0.5462686567164179,\n",
       " 0.5482587064676617,\n",
       " 0.5472636815920398,\n",
       " 0.5482587064676617,\n",
       " 0.5522388059701493,\n",
       " 0.5532338308457712,\n",
       " 0.5532338308457712,\n",
       " 0.554228855721393,\n",
       " 0.554228855721393,\n",
       " 0.5552238805970149,\n",
       " 0.5601990049751244,\n",
       " 0.5611940298507463,\n",
       " 0.5661691542288557,\n",
       " 0.5671641791044776,\n",
       " 0.5701492537313433,\n",
       " 0.5711442786069652,\n",
       " 0.573134328358209,\n",
       " 0.573134328358209,\n",
       " 0.5761194029850746,\n",
       " 0.5761194029850746,\n",
       " 0.5781094527363184,\n",
       " 0.5791044776119403,\n",
       " 0.5800995024875621,\n",
       " 0.5810945273631841,\n",
       " 0.582089552238806,\n",
       " 0.5830845771144278,\n",
       " 0.5830845771144278,\n",
       " 0.5840796019900497,\n",
       " 0.5840796019900497,\n",
       " 0.5840796019900497,\n",
       " 0.5830845771144278,\n",
       " 0.5830845771144278,\n",
       " 0.5900497512437811,\n",
       " 0.591044776119403,\n",
       " 0.5900497512437811,\n",
       " 0.591044776119403,\n",
       " 0.5920398009950248,\n",
       " 0.5930348258706468,\n",
       " 0.5920398009950248,\n",
       " 0.5990049751243781,\n",
       " 0.6,\n",
       " 0.6,\n",
       " 0.6009950248756218,\n",
       " 0.6029850746268657,\n",
       " 0.6039800995024875,\n",
       " 0.6029850746268657,\n",
       " 0.6029850746268657,\n",
       " 0.6179104477611941,\n",
       " 0.618905472636816,\n",
       " 0.6218905472636815,\n",
       " 0.6228855721393035,\n",
       " 0.6258706467661691,\n",
       " 0.6268656716417911,\n",
       " 0.6288557213930348,\n",
       " 0.6288557213930348,\n",
       " 0.6278606965174129,\n",
       " 0.6288557213930348,\n",
       " 0.6298507462686567,\n",
       " 0.6308457711442786,\n",
       " 0.6298507462686567,\n",
       " 0.6308457711442786,\n",
       " 0.6328358208955224,\n",
       " 0.6338308457711442,\n",
       " 0.6407960199004975,\n",
       " 0.6417910447761194,\n",
       " 0.6447761194029851,\n",
       " 0.6457711442786069,\n",
       " 0.6447761194029851,\n",
       " 0.6447761194029851,\n",
       " 0.6477611940298508,\n",
       " 0.6477611940298508,\n",
       " 0.6477611940298508,\n",
       " 0.6487562189054726,\n",
       " 0.6497512437810945,\n",
       " 0.6507462686567164,\n",
       " 0.6497512437810945,\n",
       " 0.6497512437810945,\n",
       " 0.6537313432835821,\n",
       " 0.6547263681592039,\n",
       " 0.6587064676616915,\n",
       " 0.6587064676616915,\n",
       " 0.6587064676616915,\n",
       " 0.6597014925373135,\n",
       " 0.6606965174129353,\n",
       " 0.6616915422885572,\n",
       " 0.6606965174129353,\n",
       " 0.663681592039801,\n",
       " 0.6646766169154229,\n",
       " 0.6666666666666666,\n",
       " 0.6666666666666666,\n",
       " 0.6666666666666666,\n",
       " 0.6676616915422886,\n",
       " 0.6666666666666666,\n",
       " 0.6666666666666666,\n",
       " 0.6656716417910448,\n",
       " 0.6666666666666666,\n",
       " 0.6696517412935323,\n",
       " 0.6676616915422886,\n",
       " 0.6686567164179105,\n",
       " 0.6696517412935323,\n",
       " 0.6686567164179105,\n",
       " 0.6696517412935323,\n",
       " 0.672636815920398,\n",
       " 0.672636815920398,\n",
       " 0.6716417910447762,\n",
       " 0.672636815920398,\n",
       " 0.6716417910447762,\n",
       " 0.672636815920398,\n",
       " 0.6736318407960199,\n",
       " 0.6746268656716418,\n",
       " 0.6736318407960199,\n",
       " 0.672636815920398,\n",
       " 0.6736318407960199,\n",
       " 0.6746268656716418,\n",
       " 0.6746268656716418,\n",
       " 0.6756218905472637,\n",
       " 0.6766169154228856,\n",
       " 0.6776119402985075,\n",
       " 0.6766169154228856,\n",
       " 0.6776119402985075,\n",
       " 0.6786069651741293,\n",
       " 0.6796019900497512,\n",
       " 0.6805970149253732,\n",
       " 0.681592039800995,\n",
       " 0.6805970149253732,\n",
       " 0.681592039800995,\n",
       " 0.6805970149253732,\n",
       " 0.681592039800995,\n",
       " 0.6825870646766169,\n",
       " 0.6825870646766169,\n",
       " 0.6865671641791045,\n",
       " 0.6845771144278607,\n",
       " 0.6835820895522388,\n",
       " 0.6845771144278607,\n",
       " 0.6835820895522388,\n",
       " 0.6845771144278607,\n",
       " 0.6875621890547263,\n",
       " 0.6885572139303483,\n",
       " 0.6885572139303483,\n",
       " 0.6865671641791045,\n",
       " 0.6885572139303483,\n",
       " 0.6895522388059702,\n",
       " 0.6885572139303483,\n",
       " 0.6895522388059702,\n",
       " 0.6935323383084577,\n",
       " 0.6945273631840796,\n",
       " 0.6965174129353234,\n",
       " 0.6975124378109453,\n",
       " 0.7014925373134329,\n",
       " 0.6985074626865672,\n",
       " 0.6975124378109453,\n",
       " 0.6965174129353234,\n",
       " 0.7014925373134329,\n",
       " 0.7024875621890547,\n",
       " 0.7014925373134329,\n",
       " 0.699502487562189,\n",
       " 0.700497512437811,\n",
       " 0.7014925373134329,\n",
       " 0.700497512437811,\n",
       " 0.6985074626865672,\n",
       " 0.6985074626865672,\n",
       " 0.699502487562189,\n",
       " 0.6985074626865672,\n",
       " 0.6975124378109453,\n",
       " 0.6975124378109453,\n",
       " 0.6985074626865672,\n",
       " 0.6975124378109453,\n",
       " 0.6975124378109453,\n",
       " 0.6975124378109453,\n",
       " 0.6985074626865672,\n",
       " 0.6985074626865672,\n",
       " 0.699502487562189,\n",
       " 0.699502487562189,\n",
       " 0.700497512437811,\n",
       " 0.699502487562189,\n",
       " 0.699502487562189,\n",
       " 0.6985074626865672,\n",
       " 0.699502487562189,\n",
       " 0.6985074626865672,\n",
       " 0.699502487562189,\n",
       " 0.6975124378109453,\n",
       " 0.6955223880597015,\n",
       " 0.6945273631840796,\n",
       " 0.6955223880597015,\n",
       " 0.6955223880597015,\n",
       " 0.6965174129353234,\n",
       " 0.6955223880597015,\n",
       " 0.6965174129353234,\n",
       " 0.6955223880597015,\n",
       " 0.6935323383084577,\n",
       " 0.6945273631840796,\n",
       " 0.6955223880597015,\n",
       " 0.6965174129353234,\n",
       " 0.6965174129353234,\n",
       " 0.6955223880597015,\n",
       " 0.6945273631840796,\n",
       " 0.6935323383084577,\n",
       " 0.6935323383084577,\n",
       " 0.6945273631840796,\n",
       " 0.6945273631840796,\n",
       " 0.6895522388059702,\n",
       " 0.6885572139303483,\n",
       " 0.6865671641791045,\n",
       " 0.6855721393034826,\n",
       " 0.6825870646766169,\n",
       " 0.6825870646766169,\n",
       " 0.6835820895522388,\n",
       " 0.6825870646766169,\n",
       " 0.6835820895522388,\n",
       " 0.6825870646766169,\n",
       " 0.6835820895522388,\n",
       " 0.6825870646766169,\n",
       " 0.6835820895522388,\n",
       " 0.6825870646766169,\n",
       " 0.6835820895522388,\n",
       " 0.6825870646766169,\n",
       " 0.6835820895522388,\n",
       " 0.6825870646766169,\n",
       " 0.6825870646766169,\n",
       " 0.6845771144278607,\n",
       " 0.6845771144278607,\n",
       " 0.6835820895522388,\n",
       " 0.6845771144278607,\n",
       " 0.6825870646766169,\n",
       " 0.6835820895522388,\n",
       " 0.6825870646766169,\n",
       " 0.6825870646766169,\n",
       " 0.6825870646766169,\n",
       " 0.6825870646766169,\n",
       " 0.6845771144278607,\n",
       " 0.6855721393034826,\n",
       " 0.6855721393034826,\n",
       " 0.6835820895522388,\n",
       " 0.6825870646766169,\n",
       " 0.6835820895522388,\n",
       " 0.6825870646766169,\n",
       " 0.6825870646766169,\n",
       " 0.681592039800995,\n",
       " 0.6805970149253732,\n",
       " 0.6796019900497512,\n",
       " 0.6776119402985075,\n",
       " 0.6766169154228856,\n",
       " 0.6766169154228856,\n",
       " 0.6766169154228856,\n",
       " 0.6776119402985075,\n",
       " 0.6776119402985075,\n",
       " 0.6786069651741293,\n",
       " 0.6776119402985075,\n",
       " 0.6786069651741293,\n",
       " 0.6776119402985075,\n",
       " 0.6786069651741293,\n",
       " 0.6786069651741293,\n",
       " 0.6796019900497512,\n",
       " 0.6786069651741293,\n",
       " 0.6756218905472637,\n",
       " 0.6746268656716418,\n",
       " 0.6686567164179105,\n",
       " 0.6676616915422886,\n",
       " 0.6606965174129353,\n",
       " 0.6606965174129353,\n",
       " 0.6587064676616915,\n",
       " 0.6606965174129353,\n",
       " 0.6616915422885572,\n",
       " 0.6666666666666666,\n",
       " 0.6656716417910448,\n",
       " 0.6646766169154229,\n",
       " 0.6656716417910448,\n",
       " 0.6646766169154229,\n",
       " 0.6626865671641791,\n",
       " 0.6616915422885572,\n",
       " 0.6606965174129353,\n",
       " 0.6597014925373135,\n",
       " 0.6597014925373135,\n",
       " 0.6587064676616915,\n",
       " 0.6547263681592039,\n",
       " 0.6547263681592039,\n",
       " 0.6477611940298508,\n",
       " 0.6467661691542289,\n",
       " 0.6447761194029851,\n",
       " 0.6457711442786069,\n",
       " 0.6457711442786069,\n",
       " 0.6447761194029851,\n",
       " 0.6457711442786069,\n",
       " 0.6467661691542289,\n",
       " 0.6398009950248756,\n",
       " 0.6398009950248756,\n",
       " 0.6407960199004975,\n",
       " 0.6398009950248756,\n",
       " 0.6378109452736318,\n",
       " 0.6368159203980099,\n",
       " 0.6368159203980099,\n",
       " 0.6358208955223881,\n",
       " 0.6358208955223881,\n",
       " 0.6358208955223881,\n",
       " 0.6368159203980099,\n",
       " 0.6358208955223881,\n",
       " 0.6358208955223881,\n",
       " 0.6348258706467662,\n",
       " 0.6328358208955224,\n",
       " 0.6318407960199005,\n",
       " 0.6298507462686567,\n",
       " 0.6288557213930348,\n",
       " 0.6288557213930348,\n",
       " 0.6288557213930348,\n",
       " 0.6218905472636815,\n",
       " 0.6208955223880597,\n",
       " 0.6199004975124378,\n",
       " 0.618905472636816,\n",
       " 0.6199004975124378,\n",
       " 0.6139303482587065,\n",
       " 0.6129353233830845,\n",
       " 0.6139303482587065,\n",
       " 0.6129353233830845,\n",
       " 0.609950248756219,\n",
       " 0.608955223880597,\n",
       " 0.608955223880597,\n",
       " 0.6079601990049751,\n",
       " 0.608955223880597,\n",
       " 0.608955223880597,\n",
       " 0.609950248756219,\n",
       " 0.609950248756219,\n",
       " 0.6109452736318408,\n",
       " 0.609950248756219,\n",
       " 0.609950248756219,\n",
       " 0.608955223880597,\n",
       " 0.6079601990049751,\n",
       " 0.6069651741293532,\n",
       " 0.6069651741293532,\n",
       " 0.6059701492537314,\n",
       " 0.6049751243781094,\n",
       " 0.6039800995024875,\n",
       " 0.6049751243781094,\n",
       " 0.6069651741293532,\n",
       " 0.6079601990049751,\n",
       " 0.608955223880597,\n",
       " 0.6079601990049751,\n",
       " 0.6079601990049751,\n",
       " 0.6069651741293532,\n",
       " 0.6059701492537314,\n",
       " 0.6059701492537314,\n",
       " 0.6069651741293532,\n",
       " 0.6069651741293532,\n",
       " 0.6049751243781094,\n",
       " 0.6039800995024875,\n",
       " 0.6039800995024875,\n",
       " 0.6009950248756218,\n",
       " 0.6,\n",
       " 0.5990049751243781,\n",
       " 0.5980099502487563,\n",
       " 0.5990049751243781,\n",
       " 0.5920398009950248,\n",
       " 0.591044776119403,\n",
       " 0.5860696517412936,\n",
       " 0.5850746268656717,\n",
       " 0.5860696517412936,\n",
       " 0.5850746268656717,\n",
       " 0.5830845771144278,\n",
       " 0.582089552238806,\n",
       " 0.5830845771144278,\n",
       " 0.582089552238806,\n",
       " 0.5830845771144278,\n",
       " 0.582089552238806,\n",
       " 0.5761194029850746,\n",
       " 0.5751243781094527,\n",
       " 0.5751243781094527,\n",
       " 0.5741293532338309,\n",
       " 0.5741293532338309,\n",
       " 0.573134328358209,\n",
       " 0.5741293532338309,\n",
       " 0.573134328358209,\n",
       " 0.5711442786069652,\n",
       " 0.5701492537313433,\n",
       " 0.5601990049751244,\n",
       " 0.5592039800995025,\n",
       " 0.5601990049751244,\n",
       " 0.5601990049751244,\n",
       " 0.5522388059701493,\n",
       " 0.5522388059701493,\n",
       " 0.5532338308457712,\n",
       " 0.5522388059701493,\n",
       " 0.5532338308457712,\n",
       " 0.5522388059701493,\n",
       " 0.5502487562189055,\n",
       " 0.5492537313432836,\n",
       " 0.5472636815920398,\n",
       " 0.5462686567164179,\n",
       " 0.5442786069651742,\n",
       " 0.5422885572139303,\n",
       " 0.5412935323383085,\n",
       " 0.5422885572139303,\n",
       " 0.5422885572139303,\n",
       " 0.5323383084577115,\n",
       " 0.5313432835820896,\n",
       " 0.5253731343283582,\n",
       " 0.5243781094527363,\n",
       " 0.5233830845771145,\n",
       " 0.5223880597014925,\n",
       " 0.5233830845771145,\n",
       " 0.5223880597014925,\n",
       " 0.5203980099502488,\n",
       " 0.5194029850746269,\n",
       " 0.5184079601990049,\n",
       " 0.5194029850746269,\n",
       " 0.5203980099502488,\n",
       " 0.5194029850746269,\n",
       " 0.5174129353233831,\n",
       " 0.5164179104477612,\n",
       " 0.5154228855721393,\n",
       " 0.5144278606965174,\n",
       " 0.5144278606965174,\n",
       " 0.5134328358208955,\n",
       " 0.5114427860696518]"
      ]
     },
     "execution_count": 46,
     "metadata": {},
     "output_type": "execute_result"
    }
   ],
   "source": [
    "accuracy"
   ]
  },
  {
   "cell_type": "code",
   "execution_count": 47,
   "id": "386e211e",
   "metadata": {},
   "outputs": [
    {
     "data": {
      "text/html": [
       "<div>\n",
       "<style scoped>\n",
       "    .dataframe tbody tr th:only-of-type {\n",
       "        vertical-align: middle;\n",
       "    }\n",
       "\n",
       "    .dataframe tbody tr th {\n",
       "        vertical-align: top;\n",
       "    }\n",
       "\n",
       "    .dataframe thead th {\n",
       "        text-align: right;\n",
       "    }\n",
       "</style>\n",
       "<table border=\"1\" class=\"dataframe\">\n",
       "  <thead>\n",
       "    <tr style=\"text-align: right;\">\n",
       "      <th></th>\n",
       "      <th>Threshold</th>\n",
       "      <th>Accuracy</th>\n",
       "    </tr>\n",
       "  </thead>\n",
       "  <tbody>\n",
       "    <tr>\n",
       "      <th>0</th>\n",
       "      <td>2.000000</td>\n",
       "      <td>0.489552</td>\n",
       "    </tr>\n",
       "    <tr>\n",
       "      <th>1</th>\n",
       "      <td>1.000000</td>\n",
       "      <td>0.489552</td>\n",
       "    </tr>\n",
       "    <tr>\n",
       "      <th>2</th>\n",
       "      <td>1.000000</td>\n",
       "      <td>0.492537</td>\n",
       "    </tr>\n",
       "    <tr>\n",
       "      <th>3</th>\n",
       "      <td>1.000000</td>\n",
       "      <td>0.493532</td>\n",
       "    </tr>\n",
       "    <tr>\n",
       "      <th>4</th>\n",
       "      <td>0.957509</td>\n",
       "      <td>0.531343</td>\n",
       "    </tr>\n",
       "    <tr>\n",
       "      <th>...</th>\n",
       "      <td>...</td>\n",
       "      <td>...</td>\n",
       "    </tr>\n",
       "    <tr>\n",
       "      <th>424</th>\n",
       "      <td>0.188972</td>\n",
       "      <td>0.515423</td>\n",
       "    </tr>\n",
       "    <tr>\n",
       "      <th>425</th>\n",
       "      <td>0.188761</td>\n",
       "      <td>0.514428</td>\n",
       "    </tr>\n",
       "    <tr>\n",
       "      <th>426</th>\n",
       "      <td>0.180111</td>\n",
       "      <td>0.514428</td>\n",
       "    </tr>\n",
       "    <tr>\n",
       "      <th>427</th>\n",
       "      <td>0.179349</td>\n",
       "      <td>0.513433</td>\n",
       "    </tr>\n",
       "    <tr>\n",
       "      <th>428</th>\n",
       "      <td>0.163380</td>\n",
       "      <td>0.511443</td>\n",
       "    </tr>\n",
       "  </tbody>\n",
       "</table>\n",
       "<p>429 rows × 2 columns</p>\n",
       "</div>"
      ],
      "text/plain": [
       "     Threshold  Accuracy\n",
       "0     2.000000  0.489552\n",
       "1     1.000000  0.489552\n",
       "2     1.000000  0.492537\n",
       "3     1.000000  0.493532\n",
       "4     0.957509  0.531343\n",
       "..         ...       ...\n",
       "424   0.188972  0.515423\n",
       "425   0.188761  0.514428\n",
       "426   0.180111  0.514428\n",
       "427   0.179349  0.513433\n",
       "428   0.163380  0.511443\n",
       "\n",
       "[429 rows x 2 columns]"
      ]
     },
     "execution_count": 47,
     "metadata": {},
     "output_type": "execute_result"
    }
   ],
   "source": [
    "final_threshold"
   ]
  },
  {
   "cell_type": "code",
   "execution_count": 49,
   "id": "1919634f",
   "metadata": {},
   "outputs": [
    {
     "data": {
      "text/html": [
       "<div>\n",
       "<style scoped>\n",
       "    .dataframe tbody tr th:only-of-type {\n",
       "        vertical-align: middle;\n",
       "    }\n",
       "\n",
       "    .dataframe tbody tr th {\n",
       "        vertical-align: top;\n",
       "    }\n",
       "\n",
       "    .dataframe thead th {\n",
       "        text-align: right;\n",
       "    }\n",
       "</style>\n",
       "<table border=\"1\" class=\"dataframe\">\n",
       "  <thead>\n",
       "    <tr style=\"text-align: right;\">\n",
       "      <th></th>\n",
       "      <th>Threshold</th>\n",
       "      <th>Accuracy</th>\n",
       "    </tr>\n",
       "  </thead>\n",
       "  <tbody>\n",
       "    <tr>\n",
       "      <th>170</th>\n",
       "      <td>0.451523</td>\n",
       "      <td>0.702488</td>\n",
       "    </tr>\n",
       "    <tr>\n",
       "      <th>171</th>\n",
       "      <td>0.447893</td>\n",
       "      <td>0.701493</td>\n",
       "    </tr>\n",
       "    <tr>\n",
       "      <th>165</th>\n",
       "      <td>0.468274</td>\n",
       "      <td>0.701493</td>\n",
       "    </tr>\n",
       "    <tr>\n",
       "      <th>174</th>\n",
       "      <td>0.441658</td>\n",
       "      <td>0.701493</td>\n",
       "    </tr>\n",
       "    <tr>\n",
       "      <th>169</th>\n",
       "      <td>0.452336</td>\n",
       "      <td>0.701493</td>\n",
       "    </tr>\n",
       "    <tr>\n",
       "      <th>...</th>\n",
       "      <td>...</td>\n",
       "      <td>...</td>\n",
       "    </tr>\n",
       "    <tr>\n",
       "      <th>428</th>\n",
       "      <td>0.163380</td>\n",
       "      <td>0.511443</td>\n",
       "    </tr>\n",
       "    <tr>\n",
       "      <th>3</th>\n",
       "      <td>1.000000</td>\n",
       "      <td>0.493532</td>\n",
       "    </tr>\n",
       "    <tr>\n",
       "      <th>2</th>\n",
       "      <td>1.000000</td>\n",
       "      <td>0.492537</td>\n",
       "    </tr>\n",
       "    <tr>\n",
       "      <th>1</th>\n",
       "      <td>1.000000</td>\n",
       "      <td>0.489552</td>\n",
       "    </tr>\n",
       "    <tr>\n",
       "      <th>0</th>\n",
       "      <td>2.000000</td>\n",
       "      <td>0.489552</td>\n",
       "    </tr>\n",
       "  </tbody>\n",
       "</table>\n",
       "<p>429 rows × 2 columns</p>\n",
       "</div>"
      ],
      "text/plain": [
       "     Threshold  Accuracy\n",
       "170   0.451523  0.702488\n",
       "171   0.447893  0.701493\n",
       "165   0.468274  0.701493\n",
       "174   0.441658  0.701493\n",
       "169   0.452336  0.701493\n",
       "..         ...       ...\n",
       "428   0.163380  0.511443\n",
       "3     1.000000  0.493532\n",
       "2     1.000000  0.492537\n",
       "1     1.000000  0.489552\n",
       "0     2.000000  0.489552\n",
       "\n",
       "[429 rows x 2 columns]"
      ]
     },
     "execution_count": 49,
     "metadata": {},
     "output_type": "execute_result"
    }
   ],
   "source": [
    "final_threshold.sort_values(by='Accuracy', ascending= False)"
   ]
  },
  {
   "cell_type": "code",
   "execution_count": 50,
   "id": "f7d3664b",
   "metadata": {},
   "outputs": [],
   "source": [
    "from sklearn.preprocessing import binarize"
   ]
  },
  {
   "cell_type": "code",
   "execution_count": 51,
   "id": "eb1d551b",
   "metadata": {},
   "outputs": [
    {
     "data": {
      "text/plain": [
       "array([0., 0., 1., ..., 0., 1., 0.])"
      ]
     },
     "execution_count": 51,
     "metadata": {},
     "output_type": "execute_result"
    }
   ],
   "source": [
    "y= binarize([proba],threshold=0.442068)[0]\n",
    "y"
   ]
  },
  {
   "cell_type": "code",
   "execution_count": 52,
   "id": "73d8e675",
   "metadata": {
    "scrolled": false
   },
   "outputs": [
    {
     "name": "stdout",
     "output_type": "stream",
     "text": [
      "              precision    recall  f1-score   support\n",
      "\n",
      "           0       1.00      0.00      0.00       492\n",
      "           1       0.51      1.00      0.68       513\n",
      "\n",
      "    accuracy                           0.51      1005\n",
      "   macro avg       0.76      0.50      0.34      1005\n",
      "weighted avg       0.75      0.51      0.35      1005\n",
      "\n"
     ]
    }
   ],
   "source": [
    "print(classification_report(ytest,ypred))"
   ]
  },
  {
   "cell_type": "code",
   "execution_count": null,
   "id": "b5c86266",
   "metadata": {},
   "outputs": [],
   "source": []
  }
 ],
 "metadata": {
  "kernelspec": {
   "display_name": "Python 3 (ipykernel)",
   "language": "python",
   "name": "python3"
  },
  "language_info": {
   "codemirror_mode": {
    "name": "ipython",
    "version": 3
   },
   "file_extension": ".py",
   "mimetype": "text/x-python",
   "name": "python",
   "nbconvert_exporter": "python",
   "pygments_lexer": "ipython3",
   "version": "3.10.9"
  }
 },
 "nbformat": 4,
 "nbformat_minor": 5
}
