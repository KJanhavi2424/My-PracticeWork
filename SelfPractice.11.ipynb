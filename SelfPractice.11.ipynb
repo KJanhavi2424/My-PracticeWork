{
 "cells": [
  {
   "cell_type": "markdown",
   "id": "c2fbd281",
   "metadata": {},
   "source": [
    "Cumulative Distribution Function"
   ]
  },
  {
   "cell_type": "code",
   "execution_count": 1,
   "id": "3f968c5c",
   "metadata": {},
   "outputs": [],
   "source": [
    "#Importing Necessary Libraries\n",
    "from scipy import stats"
   ]
  },
  {
   "cell_type": "code",
   "execution_count": 2,
   "id": "7d112aef",
   "metadata": {},
   "outputs": [
    {
     "data": {
      "text/plain": [
       "0.8413447460685429"
      ]
     },
     "execution_count": 2,
     "metadata": {},
     "output_type": "execute_result"
    }
   ],
   "source": [
    "stats.norm.cdf(70,60,10)"
   ]
  },
  {
   "cell_type": "code",
   "execution_count": 3,
   "id": "a0d1b59e",
   "metadata": {},
   "outputs": [
    {
     "data": {
      "text/plain": [
       "0.15865525393145707"
      ]
     },
     "execution_count": 3,
     "metadata": {},
     "output_type": "execute_result"
    }
   ],
   "source": [
    "1-stats.norm.cdf(70,60,10)"
   ]
  },
  {
   "cell_type": "code",
   "execution_count": 4,
   "id": "bf82cb49",
   "metadata": {},
   "outputs": [
    {
     "data": {
      "text/plain": [
       "0.14254260383881612"
      ]
     },
     "execution_count": 4,
     "metadata": {},
     "output_type": "execute_result"
    }
   ],
   "source": [
    "stats.norm.cdf(680,711,29)"
   ]
  },
  {
   "cell_type": "code",
   "execution_count": 5,
   "id": "520fc952",
   "metadata": {},
   "outputs": [],
   "source": [
    "#p(697<x>740)"
   ]
  },
  {
   "cell_type": "code",
   "execution_count": 6,
   "id": "5fd7264e",
   "metadata": {},
   "outputs": [
    {
     "data": {
      "text/plain": [
       "0.8413447460685429"
      ]
     },
     "execution_count": 6,
     "metadata": {},
     "output_type": "execute_result"
    }
   ],
   "source": [
    "stats.norm.cdf(740,711,29)"
   ]
  },
  {
   "cell_type": "code",
   "execution_count": 7,
   "id": "599daf43",
   "metadata": {},
   "outputs": [
    {
     "data": {
      "text/plain": [
       "0.31463356742704107"
      ]
     },
     "execution_count": 7,
     "metadata": {},
     "output_type": "execute_result"
    }
   ],
   "source": [
    "stats.norm.cdf(697,711,29)"
   ]
  },
  {
   "cell_type": "code",
   "execution_count": 8,
   "id": "00379519",
   "metadata": {},
   "outputs": [
    {
     "data": {
      "text/plain": [
       "0.5267111786415019"
      ]
     },
     "execution_count": 8,
     "metadata": {},
     "output_type": "execute_result"
    }
   ],
   "source": [
    "stats.norm.cdf(740,711,29)-stats.norm.cdf(697,711,29)"
   ]
  },
  {
   "cell_type": "code",
   "execution_count": 9,
   "id": "bc9855f2",
   "metadata": {},
   "outputs": [
    {
     "data": {
      "text/plain": [
       "0.0"
      ]
     },
     "execution_count": 9,
     "metadata": {},
     "output_type": "execute_result"
    }
   ],
   "source": [
    "#mean=700, SD=18, Probability=0.85\n",
    "stats.norm.cdf(0.85,700,18)"
   ]
  },
  {
   "cell_type": "markdown",
   "id": "43ae9e29",
   "metadata": {},
   "source": [
    "Probability Questions"
   ]
  },
  {
   "cell_type": "code",
   "execution_count": 10,
   "id": "acddfb7f",
   "metadata": {},
   "outputs": [
    {
     "data": {
      "text/plain": [
       "0.022750131948179195"
      ]
     },
     "execution_count": 10,
     "metadata": {},
     "output_type": "execute_result"
    }
   ],
   "source": [
    "#Wt. of child=70 pounds, Sd=10 pounds, data point=50, prob less than 50?\n",
    "stats.norm.cdf(50,70,10)"
   ]
  },
  {
   "cell_type": "code",
   "execution_count": 11,
   "id": "d325ac24",
   "metadata": {},
   "outputs": [
    {
     "data": {
      "text/plain": [
       "0.9544997361036416"
      ]
     },
     "execution_count": 11,
     "metadata": {},
     "output_type": "execute_result"
    }
   ],
   "source": [
    "#Probability range between 50 to 90\n",
    "stats.norm.cdf(90,70,10)-stats.norm.cdf(50,70,10)"
   ]
  },
  {
   "cell_type": "code",
   "execution_count": 12,
   "id": "36557c43",
   "metadata": {},
   "outputs": [
    {
     "data": {
      "text/plain": [
       "0.0013498980316301035"
      ]
     },
     "execution_count": 12,
     "metadata": {},
     "output_type": "execute_result"
    }
   ],
   "source": [
    "#Probability of weight greater than 100 pounds\n",
    "1-stats.norm.cdf(100,70,10)"
   ]
  },
  {
   "cell_type": "code",
   "execution_count": 13,
   "id": "d2edb690",
   "metadata": {},
   "outputs": [
    {
     "data": {
      "text/plain": [
       "0.4331927987311419"
      ]
     },
     "execution_count": 13,
     "metadata": {},
     "output_type": "execute_result"
    }
   ],
   "source": [
    "#Prob.of wt between 55 to 70\n",
    "stats.norm.cdf(70,70,10)-stats.norm.cdf(55,70,10)"
   ]
  },
  {
   "cell_type": "code",
   "execution_count": 14,
   "id": "9ed49f2f",
   "metadata": {},
   "outputs": [
    {
     "data": {
      "text/plain": [
       "0.6914624612740131"
      ]
     },
     "execution_count": 14,
     "metadata": {},
     "output_type": "execute_result"
    }
   ],
   "source": [
    "#Probability of wt. equal to 75 pounds\n",
    "stats.norm.cdf(75,70,10)"
   ]
  },
  {
   "cell_type": "code",
   "execution_count": null,
   "id": "945516a6",
   "metadata": {},
   "outputs": [],
   "source": []
  }
 ],
 "metadata": {
  "kernelspec": {
   "display_name": "Python 3 (ipykernel)",
   "language": "python",
   "name": "python3"
  },
  "language_info": {
   "codemirror_mode": {
    "name": "ipython",
    "version": 3
   },
   "file_extension": ".py",
   "mimetype": "text/x-python",
   "name": "python",
   "nbconvert_exporter": "python",
   "pygments_lexer": "ipython3",
   "version": "3.10.9"
  }
 },
 "nbformat": 4,
 "nbformat_minor": 5
}
