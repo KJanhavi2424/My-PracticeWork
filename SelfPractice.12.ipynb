{
 "cells": [
  {
   "cell_type": "markdown",
   "id": "fb817590",
   "metadata": {},
   "source": [
    "Hypothesis Testing"
   ]
  },
  {
   "cell_type": "code",
   "execution_count": 1,
   "id": "4f80a64a",
   "metadata": {},
   "outputs": [],
   "source": [
    "#Importing necessary Librarirs\n",
    "import pandas as pd\n",
    "import numpy as np\n",
    "from scipy import stats\n",
    "import scipy"
   ]
  },
  {
   "cell_type": "code",
   "execution_count": 2,
   "id": "5344fc31",
   "metadata": {},
   "outputs": [
    {
     "data": {
      "text/plain": [
       "0.9857070911974259"
      ]
     },
     "execution_count": 2,
     "metadata": {},
     "output_type": "execute_result"
    }
   ],
   "source": [
    "#Super market example\n",
    "stats.t.cdf(2.23,df=79)"
   ]
  },
  {
   "cell_type": "code",
   "execution_count": 3,
   "id": "081cc340",
   "metadata": {},
   "outputs": [
    {
     "data": {
      "text/plain": [
       "10.512320813640006"
      ]
     },
     "execution_count": 3,
     "metadata": {},
     "output_type": "execute_result"
    }
   ],
   "source": [
    "#Call centre example\n",
    "t=(4.46)/(3/np.sqrt(50))\n",
    "t"
   ]
  },
  {
   "cell_type": "code",
   "execution_count": 4,
   "id": "89c856d8",
   "metadata": {},
   "outputs": [
    {
     "data": {
      "text/plain": [
       "1.9999999999999627"
      ]
     },
     "execution_count": 4,
     "metadata": {},
     "output_type": "execute_result"
    }
   ],
   "source": [
    "p=2*stats.t.cdf(t,df=49)\n",
    "p"
   ]
  },
  {
   "cell_type": "code",
   "execution_count": 5,
   "id": "165f8198",
   "metadata": {},
   "outputs": [
    {
     "data": {
      "text/plain": [
       "0.9999999999999813"
      ]
     },
     "execution_count": 5,
     "metadata": {},
     "output_type": "execute_result"
    }
   ],
   "source": [
    "p/2"
   ]
  },
  {
   "cell_type": "code",
   "execution_count": 6,
   "id": "537b804d",
   "metadata": {},
   "outputs": [
    {
     "data": {
      "text/plain": [
       "0    0.593\n",
       "1    0.142\n",
       "2    0.329\n",
       "3    0.691\n",
       "4    0.231\n",
       "5    0.793\n",
       "6    0.519\n",
       "7    0.392\n",
       "8    0.418\n",
       "dtype: float64"
      ]
     },
     "execution_count": 6,
     "metadata": {},
     "output_type": "execute_result"
    }
   ],
   "source": [
    "#One tail test\n",
    "data= pd.Series([0.593,0.142,0.329,0.691,0.231,0.793,0.519,0.392,0.418])\n",
    "data"
   ]
  },
  {
   "cell_type": "code",
   "execution_count": 7,
   "id": "5e612d65",
   "metadata": {},
   "outputs": [
    {
     "data": {
      "text/plain": [
       "TtestResult(statistic=2.2050588385131595, pvalue=0.05853032968489765, df=8)"
      ]
     },
     "execution_count": 7,
     "metadata": {},
     "output_type": "execute_result"
    }
   ],
   "source": [
    "scipy.stats.ttest_1samp(data,0.3)"
   ]
  },
  {
   "cell_type": "code",
   "execution_count": 8,
   "id": "4446f07a",
   "metadata": {},
   "outputs": [
    {
     "data": {
      "text/plain": [
       "0.029265164842448826"
      ]
     },
     "execution_count": 8,
     "metadata": {},
     "output_type": "execute_result"
    }
   ],
   "source": [
    "#This gives two tail test p value,so divided by 2 to get final p value\n",
    "s,p= scipy.stats.ttest_1samp(data,0.3)\n",
    "p_value= p/2\n",
    "p_value"
   ]
  },
  {
   "cell_type": "code",
   "execution_count": 9,
   "id": "5a88d2d9",
   "metadata": {},
   "outputs": [],
   "source": [
    "#Two tail test\n",
    "Control= pd.Series([91,87,99,77,88,91])\n",
    "Treat= pd.Series([101,110,103,93,99,104])"
   ]
  },
  {
   "cell_type": "code",
   "execution_count": 10,
   "id": "41de1316",
   "metadata": {},
   "outputs": [
    {
     "data": {
      "text/plain": [
       "Ttest_indResult(statistic=-3.4456126735364876, pvalue=0.006272124350809803)"
      ]
     },
     "execution_count": 10,
     "metadata": {},
     "output_type": "execute_result"
    }
   ],
   "source": [
    "stats.ttest_ind(Control,Treat)"
   ]
  },
  {
   "cell_type": "markdown",
   "id": "baf634c5",
   "metadata": {},
   "source": [
    "2 proportion Test"
   ]
  },
  {
   "cell_type": "code",
   "execution_count": 11,
   "id": "29e60d6c",
   "metadata": {},
   "outputs": [],
   "source": [
    "import numpy as np"
   ]
  },
  {
   "cell_type": "code",
   "execution_count": 12,
   "id": "41c0a159",
   "metadata": {},
   "outputs": [],
   "source": [
    "#Data\n",
    "n1= 247\n",
    "p1= .37\n",
    "n2= 308\n",
    "p2= .39"
   ]
  },
  {
   "cell_type": "code",
   "execution_count": 13,
   "id": "438eafb4",
   "metadata": {},
   "outputs": [],
   "source": [
    "population1= np.random.binomial(1,p1,n1)"
   ]
  },
  {
   "cell_type": "code",
   "execution_count": 14,
   "id": "d3f98894",
   "metadata": {},
   "outputs": [],
   "source": [
    "population2= np.random.binomial(2,p2,n2)"
   ]
  },
  {
   "cell_type": "code",
   "execution_count": 15,
   "id": "59fb3f68",
   "metadata": {},
   "outputs": [
    {
     "data": {
      "text/plain": [
       "array([0, 0, 0, 0, 0, 0, 0, 1, 1, 0, 1, 1, 1, 1, 1, 0, 1, 1, 1, 0, 0, 1,\n",
       "       0, 0, 0, 0, 0, 0, 0, 0, 0, 0, 0, 1, 0, 1, 0, 0, 1, 0, 0, 0, 0, 1,\n",
       "       1, 1, 0, 0, 0, 0, 1, 0, 0, 0, 0, 0, 0, 0, 0, 0, 1, 0, 0, 0, 0, 1,\n",
       "       0, 1, 0, 0, 0, 0, 0, 1, 0, 1, 1, 0, 0, 1, 0, 1, 0, 0, 0, 0, 1, 0,\n",
       "       0, 0, 1, 0, 0, 0, 1, 0, 1, 0, 0, 1, 1, 1, 1, 0, 0, 0, 0, 0, 0, 0,\n",
       "       1, 1, 0, 1, 0, 1, 0, 0, 0, 0, 0, 1, 0, 0, 1, 1, 0, 0, 0, 1, 0, 1,\n",
       "       0, 0, 0, 0, 0, 1, 0, 0, 1, 0, 0, 1, 1, 0, 0, 0, 0, 1, 0, 1, 0, 0,\n",
       "       0, 1, 1, 1, 0, 1, 0, 1, 0, 0, 1, 0, 0, 1, 0, 1, 0, 1, 1, 1, 1, 1,\n",
       "       0, 0, 1, 0, 1, 0, 0, 0, 0, 0, 0, 0, 0, 0, 0, 0, 0, 0, 1, 0, 1, 1,\n",
       "       1, 0, 1, 0, 1, 1, 1, 0, 0, 0, 0, 0, 0, 0, 0, 1, 1, 0, 1, 0, 1, 1,\n",
       "       0, 0, 0, 1, 1, 1, 1, 1, 0, 1, 1, 0, 1, 1, 1, 0, 1, 0, 1, 1, 0, 1,\n",
       "       0, 1, 1, 0, 0])"
      ]
     },
     "execution_count": 15,
     "metadata": {},
     "output_type": "execute_result"
    }
   ],
   "source": [
    "population1"
   ]
  },
  {
   "cell_type": "code",
   "execution_count": 16,
   "id": "67c64bb8",
   "metadata": {},
   "outputs": [
    {
     "data": {
      "text/plain": [
       "array([0, 1, 0, 2, 1, 1, 1, 0, 1, 1, 1, 1, 1, 0, 1, 2, 1, 0, 1, 0, 0, 2,\n",
       "       0, 0, 0, 0, 1, 2, 1, 1, 1, 1, 0, 1, 1, 2, 0, 1, 1, 1, 0, 0, 1, 2,\n",
       "       0, 1, 1, 2, 1, 0, 0, 1, 0, 1, 1, 1, 1, 0, 0, 1, 0, 2, 0, 0, 2, 1,\n",
       "       2, 1, 0, 0, 2, 1, 1, 0, 1, 1, 1, 1, 1, 1, 2, 2, 1, 0, 1, 0, 2, 1,\n",
       "       0, 1, 0, 1, 1, 2, 1, 1, 0, 1, 0, 1, 1, 0, 2, 2, 1, 1, 0, 0, 2, 1,\n",
       "       0, 1, 0, 2, 1, 1, 0, 1, 1, 2, 1, 2, 1, 1, 0, 0, 1, 1, 0, 0, 1, 2,\n",
       "       0, 0, 0, 2, 0, 0, 2, 1, 1, 1, 2, 2, 1, 0, 1, 1, 1, 0, 1, 2, 2, 1,\n",
       "       0, 0, 2, 1, 1, 1, 1, 1, 2, 1, 1, 0, 0, 1, 1, 0, 1, 0, 0, 2, 1, 1,\n",
       "       1, 0, 1, 1, 1, 0, 0, 0, 2, 0, 1, 0, 2, 1, 0, 1, 1, 1, 2, 0, 1, 2,\n",
       "       0, 0, 1, 1, 2, 1, 1, 1, 0, 0, 2, 2, 0, 1, 1, 0, 2, 1, 2, 0, 2, 1,\n",
       "       1, 0, 1, 1, 0, 0, 0, 1, 1, 1, 0, 1, 0, 1, 1, 1, 1, 1, 1, 1, 1, 0,\n",
       "       0, 1, 1, 0, 1, 1, 2, 0, 0, 0, 1, 1, 1, 1, 2, 0, 0, 1, 1, 1, 1, 1,\n",
       "       1, 0, 0, 0, 0, 1, 1, 0, 1, 1, 1, 1, 1, 1, 1, 0, 0, 0, 2, 0, 1, 1,\n",
       "       1, 1, 1, 1, 1, 1, 0, 1, 1, 0, 2, 0, 1, 1, 1, 1, 1, 2, 2, 1, 1, 0])"
      ]
     },
     "execution_count": 16,
     "metadata": {},
     "output_type": "execute_result"
    }
   ],
   "source": [
    "population2"
   ]
  },
  {
   "cell_type": "code",
   "execution_count": 17,
   "id": "ea11491e",
   "metadata": {},
   "outputs": [
    {
     "data": {
      "text/plain": [
       "0.3765182186234818"
      ]
     },
     "execution_count": 17,
     "metadata": {},
     "output_type": "execute_result"
    }
   ],
   "source": [
    "population1.mean()"
   ]
  },
  {
   "cell_type": "code",
   "execution_count": 18,
   "id": "73c2a3c1",
   "metadata": {},
   "outputs": [
    {
     "data": {
      "text/plain": [
       "0.8311688311688312"
      ]
     },
     "execution_count": 18,
     "metadata": {},
     "output_type": "execute_result"
    }
   ],
   "source": [
    "population2.mean()"
   ]
  },
  {
   "cell_type": "code",
   "execution_count": 19,
   "id": "3949d97b",
   "metadata": {},
   "outputs": [],
   "source": [
    "import statsmodels.api as sm"
   ]
  },
  {
   "cell_type": "code",
   "execution_count": 20,
   "id": "847280fc",
   "metadata": {},
   "outputs": [
    {
     "data": {
      "text/plain": [
       "(-8.959271189635096, 4.9901016163155854e-18, 553.0)"
      ]
     },
     "execution_count": 20,
     "metadata": {},
     "output_type": "execute_result"
    }
   ],
   "source": [
    "sm.stats.ttest_ind(population1, population2)"
   ]
  }
 ],
 "metadata": {
  "kernelspec": {
   "display_name": "Python 3 (ipykernel)",
   "language": "python",
   "name": "python3"
  },
  "language_info": {
   "codemirror_mode": {
    "name": "ipython",
    "version": 3
   },
   "file_extension": ".py",
   "mimetype": "text/x-python",
   "name": "python",
   "nbconvert_exporter": "python",
   "pygments_lexer": "ipython3",
   "version": "3.10.9"
  }
 },
 "nbformat": 4,
 "nbformat_minor": 5
}
