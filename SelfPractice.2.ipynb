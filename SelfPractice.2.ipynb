{
 "cells": [
  {
   "cell_type": "markdown",
   "id": "8d1f5396",
   "metadata": {},
   "source": [
    "# Conditional Statements"
   ]
  },
  {
   "cell_type": "code",
   "execution_count": 1,
   "id": "932f4ae8",
   "metadata": {},
   "outputs": [
    {
     "name": "stdout",
     "output_type": "stream",
     "text": [
      "100\n"
     ]
    },
    {
     "data": {
      "text/plain": [
       "'100'"
      ]
     },
     "execution_count": 1,
     "metadata": {},
     "output_type": "execute_result"
    }
   ],
   "source": [
    "input()"
   ]
  },
  {
   "cell_type": "code",
   "execution_count": 2,
   "id": "dec015ee",
   "metadata": {},
   "outputs": [
    {
     "name": "stdout",
     "output_type": "stream",
     "text": [
      "Enter your age:24\n"
     ]
    }
   ],
   "source": [
    "age = int(input('Enter your age:'))"
   ]
  },
  {
   "cell_type": "code",
   "execution_count": 3,
   "id": "f5a6657c",
   "metadata": {},
   "outputs": [
    {
     "data": {
      "text/plain": [
       "24"
      ]
     },
     "execution_count": 3,
     "metadata": {},
     "output_type": "execute_result"
    }
   ],
   "source": [
    "age"
   ]
  },
  {
   "cell_type": "code",
   "execution_count": 4,
   "id": "90e74f8a",
   "metadata": {},
   "outputs": [
    {
     "data": {
      "text/plain": [
       "int"
      ]
     },
     "execution_count": 4,
     "metadata": {},
     "output_type": "execute_result"
    }
   ],
   "source": [
    "type(age)"
   ]
  },
  {
   "cell_type": "markdown",
   "id": "ac9c9873",
   "metadata": {},
   "source": [
    "# Conditional Statements"
   ]
  },
  {
   "cell_type": "markdown",
   "id": "4f043171",
   "metadata": {},
   "source": [
    "if, else, elif"
   ]
  },
  {
   "cell_type": "code",
   "execution_count": 5,
   "id": "5080f6ad",
   "metadata": {},
   "outputs": [
    {
     "name": "stdout",
     "output_type": "stream",
     "text": [
      "Grant access\n"
     ]
    }
   ],
   "source": [
    "userid='Janu'\n",
    "if userid=='Janu':\n",
    "    print('Grant access')"
   ]
  },
  {
   "cell_type": "code",
   "execution_count": 6,
   "id": "22f7dc20",
   "metadata": {},
   "outputs": [
    {
     "name": "stdout",
     "output_type": "stream",
     "text": [
      "Enter the name:Kumar Sangakkara\n",
      "My most favourite player\n"
     ]
    }
   ],
   "source": [
    "player= input('Enter the name:')\n",
    "if player=='Kumar Sangakkara':\n",
    "    print('My most favourite player')\n",
    "else:\n",
    "    print('Not my favourite player')"
   ]
  },
  {
   "cell_type": "code",
   "execution_count": 7,
   "id": "cf738242",
   "metadata": {},
   "outputs": [
    {
     "name": "stdout",
     "output_type": "stream",
     "text": [
      "Enter any number:-87\n",
      "Negative number\n"
     ]
    }
   ],
   "source": [
    "number=int(input('Enter any number:'))\n",
    "if number>0:\n",
    "    print('Positive number')\n",
    "else:\n",
    "    print('Negative number')"
   ]
  },
  {
   "cell_type": "code",
   "execution_count": 8,
   "id": "e204c4e3",
   "metadata": {},
   "outputs": [
    {
     "name": "stdout",
     "output_type": "stream",
     "text": [
      "Number:-86\n",
      "Even number\n"
     ]
    }
   ],
   "source": [
    "num=int(input('Number:'))\n",
    "if num%2==0:\n",
    "    print('Even number')\n",
    "else:\n",
    "    print('Odd number')"
   ]
  },
  {
   "cell_type": "code",
   "execution_count": 9,
   "id": "b776524c",
   "metadata": {},
   "outputs": [
    {
     "name": "stdout",
     "output_type": "stream",
     "text": [
      "Enter age:9\n",
      "You have to wait for more 9 years\n"
     ]
    }
   ],
   "source": [
    "age=int(input('Enter age:'))\n",
    "if age>=18:\n",
    "    print('You are eligible')\n",
    "else:\n",
    "    print('You have to wait for more',18-age,'years')"
   ]
  },
  {
   "cell_type": "code",
   "execution_count": 10,
   "id": "634952ac",
   "metadata": {},
   "outputs": [
    {
     "name": "stdout",
     "output_type": "stream",
     "text": [
      "Enter any number:8\n",
      "Positive\n"
     ]
    }
   ],
   "source": [
    "number=int(input('Enter any number:'))\n",
    "if number>0:\n",
    "    print('Positive')\n",
    "elif number==0:\n",
    "    print('Zero')\n",
    "else:\n",
    "    print('Negative')"
   ]
  },
  {
   "cell_type": "code",
   "execution_count": 11,
   "id": "1cf96e36",
   "metadata": {},
   "outputs": [
    {
     "name": "stdout",
     "output_type": "stream",
     "text": [
      "Enter marks:70\n",
      "First class\n"
     ]
    }
   ],
   "source": [
    "marks=int(input('Enter marks:'))\n",
    "if marks>75:\n",
    "    print('Outstanding')\n",
    "elif (marks<75) and (marks>60):\n",
    "    print('First class')\n",
    "elif(marks<60) and (marks>50):\n",
    "    print('Second class')\n",
    "else:\n",
    "    print('Never give up')"
   ]
  },
  {
   "cell_type": "code",
   "execution_count": 17,
   "id": "ef24ccb2",
   "metadata": {},
   "outputs": [
    {
     "name": "stdout",
     "output_type": "stream",
     "text": [
      "Enter age:31\n",
      "Stay single forever\n"
     ]
    }
   ],
   "source": [
    "age=int(input('Enter age:'))\n",
    "if age<=18:\n",
    "    print('This is not your age of a marriage')\n",
    "elif (age>18) and (age<=30):\n",
    "    print('You must marry')\n",
    "else:\n",
    "    print('Stay single forever')"
   ]
  },
  {
   "cell_type": "code",
   "execution_count": null,
   "id": "5bd61039",
   "metadata": {},
   "outputs": [],
   "source": []
  }
 ],
 "metadata": {
  "kernelspec": {
   "display_name": "Python 3 (ipykernel)",
   "language": "python",
   "name": "python3"
  },
  "language_info": {
   "codemirror_mode": {
    "name": "ipython",
    "version": 3
   },
   "file_extension": ".py",
   "mimetype": "text/x-python",
   "name": "python",
   "nbconvert_exporter": "python",
   "pygments_lexer": "ipython3",
   "version": "3.10.9"
  }
 },
 "nbformat": 4,
 "nbformat_minor": 5
}
