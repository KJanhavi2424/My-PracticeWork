{
 "cells": [
  {
   "cell_type": "code",
   "execution_count": 1,
   "id": "883f23f5",
   "metadata": {},
   "outputs": [],
   "source": [
    "#BasicOperations in Python"
   ]
  },
  {
   "cell_type": "code",
   "execution_count": 2,
   "id": "4c305f8c",
   "metadata": {},
   "outputs": [],
   "source": [
    "#Variable\n",
    "a= 100"
   ]
  },
  {
   "cell_type": "code",
   "execution_count": 3,
   "id": "0829f137",
   "metadata": {},
   "outputs": [
    {
     "data": {
      "text/plain": [
       "100"
      ]
     },
     "execution_count": 3,
     "metadata": {},
     "output_type": "execute_result"
    }
   ],
   "source": [
    "a"
   ]
  },
  {
   "cell_type": "code",
   "execution_count": 4,
   "id": "99e16b95",
   "metadata": {},
   "outputs": [
    {
     "data": {
      "text/plain": [
       "1875182619984"
      ]
     },
     "execution_count": 4,
     "metadata": {},
     "output_type": "execute_result"
    }
   ],
   "source": [
    "id(a)"
   ]
  },
  {
   "cell_type": "code",
   "execution_count": 5,
   "id": "c2ea8fa5",
   "metadata": {},
   "outputs": [
    {
     "data": {
      "text/plain": [
       "124"
      ]
     },
     "execution_count": 5,
     "metadata": {},
     "output_type": "execute_result"
    }
   ],
   "source": [
    "#Arithmetic operators\n",
    "a+24"
   ]
  },
  {
   "cell_type": "code",
   "execution_count": 6,
   "id": "accc9147",
   "metadata": {},
   "outputs": [
    {
     "name": "stdout",
     "output_type": "stream",
     "text": [
      "100\n"
     ]
    }
   ],
   "source": [
    "#This is single line comment\n",
    "print(100)"
   ]
  },
  {
   "cell_type": "code",
   "execution_count": 7,
   "id": "20d9ce79",
   "metadata": {},
   "outputs": [],
   "source": [
    "#This is first step #This is second step"
   ]
  },
  {
   "cell_type": "code",
   "execution_count": 8,
   "id": "3cf9027a",
   "metadata": {},
   "outputs": [
    {
     "data": {
      "text/plain": [
       "'This is first line\\nThis is second line'"
      ]
     },
     "execution_count": 8,
     "metadata": {},
     "output_type": "execute_result"
    }
   ],
   "source": [
    "#Multi line comment\n",
    "'''This is first line\n",
    "This is second line'''"
   ]
  },
  {
   "cell_type": "code",
   "execution_count": 9,
   "id": "2e30f638",
   "metadata": {},
   "outputs": [],
   "source": [
    "#Data types in python= Integer,float,string,boolean."
   ]
  },
  {
   "cell_type": "code",
   "execution_count": 10,
   "id": "ea10b3e1",
   "metadata": {},
   "outputs": [
    {
     "data": {
      "text/plain": [
       "100"
      ]
     },
     "execution_count": 10,
     "metadata": {},
     "output_type": "execute_result"
    }
   ],
   "source": [
    "#Integer\n",
    "a=100\n",
    "a"
   ]
  },
  {
   "cell_type": "code",
   "execution_count": 11,
   "id": "c644d68f",
   "metadata": {},
   "outputs": [
    {
     "data": {
      "text/plain": [
       "int"
      ]
     },
     "execution_count": 11,
     "metadata": {},
     "output_type": "execute_result"
    }
   ],
   "source": [
    "type(a)"
   ]
  },
  {
   "cell_type": "code",
   "execution_count": 12,
   "id": "e6063bfc",
   "metadata": {},
   "outputs": [
    {
     "data": {
      "text/plain": [
       "float"
      ]
     },
     "execution_count": 12,
     "metadata": {},
     "output_type": "execute_result"
    }
   ],
   "source": [
    "a=11.1\n",
    "type(a)"
   ]
  },
  {
   "cell_type": "code",
   "execution_count": 13,
   "id": "ad36592b",
   "metadata": {},
   "outputs": [
    {
     "data": {
      "text/plain": [
       "str"
      ]
     },
     "execution_count": 13,
     "metadata": {},
     "output_type": "execute_result"
    }
   ],
   "source": [
    "s='we are learning data science'\n",
    "type(s)"
   ]
  },
  {
   "cell_type": "code",
   "execution_count": 14,
   "id": "3355d4ee",
   "metadata": {},
   "outputs": [
    {
     "data": {
      "text/plain": [
       "str"
      ]
     },
     "execution_count": 14,
     "metadata": {},
     "output_type": "execute_result"
    }
   ],
   "source": [
    "s1=\"we are learning data science\"\n",
    "type(s1)"
   ]
  },
  {
   "cell_type": "code",
   "execution_count": 15,
   "id": "b6793668",
   "metadata": {},
   "outputs": [
    {
     "data": {
      "text/plain": [
       "str"
      ]
     },
     "execution_count": 15,
     "metadata": {},
     "output_type": "execute_result"
    }
   ],
   "source": [
    "s2='''we are learning data science'''\n",
    "type(s2)"
   ]
  },
  {
   "cell_type": "code",
   "execution_count": 16,
   "id": "69f618f8",
   "metadata": {},
   "outputs": [
    {
     "data": {
      "text/plain": [
       "'It is a cat'"
      ]
     },
     "execution_count": 16,
     "metadata": {},
     "output_type": "execute_result"
    }
   ],
   "source": [
    "sa = 'It is a cat'\n",
    "sa"
   ]
  },
  {
   "cell_type": "code",
   "execution_count": 17,
   "id": "df7661ce",
   "metadata": {},
   "outputs": [
    {
     "name": "stdout",
     "output_type": "stream",
     "text": [
      "we are learning data science\n"
     ]
    }
   ],
   "source": [
    "print(s)"
   ]
  },
  {
   "cell_type": "code",
   "execution_count": 18,
   "id": "8994d5ce",
   "metadata": {},
   "outputs": [
    {
     "data": {
      "text/plain": [
       "True"
      ]
     },
     "execution_count": 18,
     "metadata": {},
     "output_type": "execute_result"
    }
   ],
   "source": [
    "s==s1"
   ]
  },
  {
   "cell_type": "code",
   "execution_count": 19,
   "id": "e9c3166b",
   "metadata": {},
   "outputs": [
    {
     "data": {
      "text/plain": [
       "True"
      ]
     },
     "execution_count": 19,
     "metadata": {},
     "output_type": "execute_result"
    }
   ],
   "source": [
    "b=True\n",
    "b"
   ]
  },
  {
   "cell_type": "code",
   "execution_count": 20,
   "id": "aac2f447",
   "metadata": {},
   "outputs": [
    {
     "data": {
      "text/plain": [
       "bool"
      ]
     },
     "execution_count": 20,
     "metadata": {},
     "output_type": "execute_result"
    }
   ],
   "source": [
    "type(b)"
   ]
  },
  {
   "cell_type": "code",
   "execution_count": 21,
   "id": "380d18aa",
   "metadata": {},
   "outputs": [],
   "source": [
    "#Typecasting"
   ]
  },
  {
   "cell_type": "code",
   "execution_count": 22,
   "id": "56ec4ec0",
   "metadata": {},
   "outputs": [
    {
     "data": {
      "text/plain": [
       "int"
      ]
     },
     "execution_count": 22,
     "metadata": {},
     "output_type": "execute_result"
    }
   ],
   "source": [
    "i=10\n",
    "type(i)"
   ]
  },
  {
   "cell_type": "code",
   "execution_count": 23,
   "id": "5b439b98",
   "metadata": {},
   "outputs": [
    {
     "data": {
      "text/plain": [
       "10.0"
      ]
     },
     "execution_count": 23,
     "metadata": {},
     "output_type": "execute_result"
    }
   ],
   "source": [
    "i=float(i)\n",
    "i"
   ]
  },
  {
   "cell_type": "code",
   "execution_count": 24,
   "id": "85c1fc03",
   "metadata": {},
   "outputs": [
    {
     "data": {
      "text/plain": [
       "float"
      ]
     },
     "execution_count": 24,
     "metadata": {},
     "output_type": "execute_result"
    }
   ],
   "source": [
    "type(i)"
   ]
  },
  {
   "cell_type": "code",
   "execution_count": 25,
   "id": "392f2053",
   "metadata": {},
   "outputs": [
    {
     "data": {
      "text/plain": [
       "str"
      ]
     },
     "execution_count": 25,
     "metadata": {},
     "output_type": "execute_result"
    }
   ],
   "source": [
    "s=str(i)\n",
    "type(s)"
   ]
  },
  {
   "cell_type": "code",
   "execution_count": 26,
   "id": "161c5a2f",
   "metadata": {},
   "outputs": [
    {
     "data": {
      "text/plain": [
       "10.0"
      ]
     },
     "execution_count": 26,
     "metadata": {},
     "output_type": "execute_result"
    }
   ],
   "source": [
    "i"
   ]
  },
  {
   "cell_type": "code",
   "execution_count": 27,
   "id": "79c5a613",
   "metadata": {},
   "outputs": [
    {
     "data": {
      "text/plain": [
       "True"
      ]
     },
     "execution_count": 27,
     "metadata": {},
     "output_type": "execute_result"
    }
   ],
   "source": [
    "bool(i)"
   ]
  },
  {
   "cell_type": "code",
   "execution_count": 28,
   "id": "a64c8180",
   "metadata": {},
   "outputs": [
    {
     "data": {
      "text/plain": [
       "int"
      ]
     },
     "execution_count": 28,
     "metadata": {},
     "output_type": "execute_result"
    }
   ],
   "source": [
    "x=0\n",
    "type(x)"
   ]
  },
  {
   "cell_type": "code",
   "execution_count": 29,
   "id": "554f8a2e",
   "metadata": {},
   "outputs": [
    {
     "data": {
      "text/plain": [
       "False"
      ]
     },
     "execution_count": 29,
     "metadata": {},
     "output_type": "execute_result"
    }
   ],
   "source": [
    "bool(x)"
   ]
  },
  {
   "cell_type": "code",
   "execution_count": 30,
   "id": "1a0b4d7b",
   "metadata": {},
   "outputs": [],
   "source": [
    "#String methods"
   ]
  },
  {
   "cell_type": "code",
   "execution_count": 31,
   "id": "6131ec6e",
   "metadata": {},
   "outputs": [
    {
     "data": {
      "text/plain": [
       "'we are learning data science'"
      ]
     },
     "execution_count": 31,
     "metadata": {},
     "output_type": "execute_result"
    }
   ],
   "source": [
    "#Create string\n",
    "s1"
   ]
  },
  {
   "cell_type": "code",
   "execution_count": 32,
   "id": "baa4c6e3",
   "metadata": {},
   "outputs": [
    {
     "data": {
      "text/plain": [
       "'We are learning data science'"
      ]
     },
     "execution_count": 32,
     "metadata": {},
     "output_type": "execute_result"
    }
   ],
   "source": [
    "s1.capitalize()"
   ]
  },
  {
   "cell_type": "code",
   "execution_count": 33,
   "id": "8883f805",
   "metadata": {},
   "outputs": [
    {
     "data": {
      "text/plain": [
       "'w_e_ _a_r_e_ _l_e_a_r_n_i_n_g_ _d_a_t_a_ _s_c_i_e_n_c_e'"
      ]
     },
     "execution_count": 33,
     "metadata": {},
     "output_type": "execute_result"
    }
   ],
   "source": [
    "#join function\n",
    "st='_'.join(s1)\n",
    "st"
   ]
  },
  {
   "cell_type": "code",
   "execution_count": 34,
   "id": "13602c5a",
   "metadata": {},
   "outputs": [
    {
     "data": {
      "text/plain": [
       "'w*e* *a*r*e* *l*e*a*r*n*i*n*g* *d*a*t*a* *s*c*i*e*n*c*e'"
      ]
     },
     "execution_count": 34,
     "metadata": {},
     "output_type": "execute_result"
    }
   ],
   "source": [
    "'*'.join(s1)"
   ]
  },
  {
   "cell_type": "code",
   "execution_count": 35,
   "id": "cc675a97",
   "metadata": {},
   "outputs": [
    {
     "data": {
      "text/plain": [
       "'we are learning data science'"
      ]
     },
     "execution_count": 35,
     "metadata": {},
     "output_type": "execute_result"
    }
   ],
   "source": [
    "#Index\n",
    "s1"
   ]
  },
  {
   "cell_type": "code",
   "execution_count": 36,
   "id": "36e7de4b",
   "metadata": {},
   "outputs": [
    {
     "data": {
      "text/plain": [
       "7"
      ]
     },
     "execution_count": 36,
     "metadata": {},
     "output_type": "execute_result"
    }
   ],
   "source": [
    "s1.index('learning')"
   ]
  },
  {
   "cell_type": "code",
   "execution_count": 37,
   "id": "064aa803",
   "metadata": {},
   "outputs": [
    {
     "data": {
      "text/plain": [
       "'we are learning data science'"
      ]
     },
     "execution_count": 37,
     "metadata": {},
     "output_type": "execute_result"
    }
   ],
   "source": [
    "s1"
   ]
  },
  {
   "cell_type": "code",
   "execution_count": 38,
   "id": "31ae075c",
   "metadata": {},
   "outputs": [
    {
     "data": {
      "text/plain": [
       "'c'"
      ]
     },
     "execution_count": 38,
     "metadata": {},
     "output_type": "execute_result"
    }
   ],
   "source": [
    "s1[-6]"
   ]
  },
  {
   "cell_type": "code",
   "execution_count": 39,
   "id": "0478f4a3",
   "metadata": {},
   "outputs": [
    {
     "data": {
      "text/plain": [
       "True"
      ]
     },
     "execution_count": 39,
     "metadata": {},
     "output_type": "execute_result"
    }
   ],
   "source": [
    "#Startswith\n",
    "s1.startswith('w')"
   ]
  },
  {
   "cell_type": "code",
   "execution_count": 40,
   "id": "976b731a",
   "metadata": {},
   "outputs": [
    {
     "data": {
      "text/plain": [
       "False"
      ]
     },
     "execution_count": 40,
     "metadata": {},
     "output_type": "execute_result"
    }
   ],
   "source": [
    "s1.startswith('a')"
   ]
  },
  {
   "cell_type": "code",
   "execution_count": 41,
   "id": "ce795ecf",
   "metadata": {},
   "outputs": [
    {
     "data": {
      "text/plain": [
       "'we are learning data science'"
      ]
     },
     "execution_count": 41,
     "metadata": {},
     "output_type": "execute_result"
    }
   ],
   "source": [
    "#replace\n",
    "s1"
   ]
  },
  {
   "cell_type": "code",
   "execution_count": 42,
   "id": "2ab533a2",
   "metadata": {},
   "outputs": [
    {
     "data": {
      "text/plain": [
       "'They are learning data science'"
      ]
     },
     "execution_count": 42,
     "metadata": {},
     "output_type": "execute_result"
    }
   ],
   "source": [
    "s1=s1.replace('we','They')\n",
    "s1"
   ]
  },
  {
   "cell_type": "code",
   "execution_count": 43,
   "id": "1b100de7",
   "metadata": {},
   "outputs": [
    {
     "data": {
      "text/plain": [
       "'Milk,Bread,Cheese'"
      ]
     },
     "execution_count": 43,
     "metadata": {},
     "output_type": "execute_result"
    }
   ],
   "source": [
    "#Split\n",
    "s='Milk,Bread,Cheese'\n",
    "s"
   ]
  },
  {
   "cell_type": "code",
   "execution_count": 44,
   "id": "c38624b6",
   "metadata": {},
   "outputs": [
    {
     "data": {
      "text/plain": [
       "['Milk', 'Bread', 'Cheese']"
      ]
     },
     "execution_count": 44,
     "metadata": {},
     "output_type": "execute_result"
    }
   ],
   "source": [
    "s=s.split(',')\n",
    "s"
   ]
  },
  {
   "cell_type": "code",
   "execution_count": 45,
   "id": "ae654b45",
   "metadata": {},
   "outputs": [
    {
     "data": {
      "text/plain": [
       "['Cheese Bread Maggie']"
      ]
     },
     "execution_count": 45,
     "metadata": {},
     "output_type": "execute_result"
    }
   ],
   "source": [
    "s1='Cheese Bread Maggie'\n",
    "s1=s1.split('/')\n",
    "s1"
   ]
  },
  {
   "cell_type": "code",
   "execution_count": 46,
   "id": "be57c4d3",
   "metadata": {},
   "outputs": [
    {
     "data": {
      "text/plain": [
       "['Fish', 'Chicken', 'Prawns']"
      ]
     },
     "execution_count": 46,
     "metadata": {},
     "output_type": "execute_result"
    }
   ],
   "source": [
    "s1='Fish Chicken Prawns'\n",
    "s1.split(' ')"
   ]
  },
  {
   "cell_type": "code",
   "execution_count": 47,
   "id": "000607d0",
   "metadata": {},
   "outputs": [
    {
     "data": {
      "text/plain": [
       "'WE ARE LEARNING DATA SCIENCE'"
      ]
     },
     "execution_count": 47,
     "metadata": {},
     "output_type": "execute_result"
    }
   ],
   "source": [
    "#Upper\n",
    "s2.upper()"
   ]
  },
  {
   "cell_type": "code",
   "execution_count": 48,
   "id": "bfc9b310",
   "metadata": {},
   "outputs": [
    {
     "data": {
      "text/plain": [
       "'we are learning data science'"
      ]
     },
     "execution_count": 48,
     "metadata": {},
     "output_type": "execute_result"
    }
   ],
   "source": [
    "#Lower\n",
    "s2.lower()"
   ]
  },
  {
   "cell_type": "code",
   "execution_count": 49,
   "id": "ee13b37d",
   "metadata": {},
   "outputs": [
    {
     "data": {
      "text/plain": [
       "'We Are Learning Data Science'"
      ]
     },
     "execution_count": 49,
     "metadata": {},
     "output_type": "execute_result"
    }
   ],
   "source": [
    "#Title\n",
    "s2.title()"
   ]
  },
  {
   "cell_type": "code",
   "execution_count": 50,
   "id": "b5c0e2db",
   "metadata": {},
   "outputs": [],
   "source": [
    "#Data structures = lists,Tuple,Dictionary,Sets"
   ]
  },
  {
   "cell_type": "code",
   "execution_count": 51,
   "id": "86c5a207",
   "metadata": {},
   "outputs": [
    {
     "data": {
      "text/plain": [
       "list"
      ]
     },
     "execution_count": 51,
     "metadata": {},
     "output_type": "execute_result"
    }
   ],
   "source": [
    "#Creating lists\n",
    "lst= list()\n",
    "lst\n",
    "type(lst)"
   ]
  },
  {
   "cell_type": "code",
   "execution_count": 52,
   "id": "bccf9706",
   "metadata": {},
   "outputs": [
    {
     "data": {
      "text/plain": [
       "[10, 1.24, True, 'Wisdom']"
      ]
     },
     "execution_count": 52,
     "metadata": {},
     "output_type": "execute_result"
    }
   ],
   "source": [
    "#Add elements inside the list\n",
    "lst= [10,1.24,True,'Wisdom']\n",
    "lst"
   ]
  },
  {
   "cell_type": "code",
   "execution_count": 53,
   "id": "943a8602",
   "metadata": {},
   "outputs": [
    {
     "data": {
      "text/plain": [
       "'Wisdom'"
      ]
     },
     "execution_count": 53,
     "metadata": {},
     "output_type": "execute_result"
    }
   ],
   "source": [
    "#Accessing elements from the list\n",
    "lst[-1]"
   ]
  },
  {
   "cell_type": "code",
   "execution_count": 54,
   "id": "e9ac4d3b",
   "metadata": {},
   "outputs": [
    {
     "data": {
      "text/plain": [
       "[10, 1.24]"
      ]
     },
     "execution_count": 54,
     "metadata": {},
     "output_type": "execute_result"
    }
   ],
   "source": [
    "lst[0:2]"
   ]
  },
  {
   "cell_type": "code",
   "execution_count": 55,
   "id": "9a30b88b",
   "metadata": {},
   "outputs": [
    {
     "data": {
      "text/plain": [
       "[10, 1.24, True, 'Wisdom', 'Machine Learning Model']"
      ]
     },
     "execution_count": 55,
     "metadata": {},
     "output_type": "execute_result"
    }
   ],
   "source": [
    "#Append\n",
    "lst.append('Machine Learning Model')\n",
    "lst"
   ]
  },
  {
   "cell_type": "code",
   "execution_count": 56,
   "id": "43a2ef94",
   "metadata": {},
   "outputs": [
    {
     "data": {
      "text/plain": [
       "2"
      ]
     },
     "execution_count": 56,
     "metadata": {},
     "output_type": "execute_result"
    }
   ],
   "source": [
    "#Index\n",
    "lst.index(True)"
   ]
  },
  {
   "cell_type": "code",
   "execution_count": 57,
   "id": "3e9a91d1",
   "metadata": {},
   "outputs": [
    {
     "data": {
      "text/plain": [
       "4"
      ]
     },
     "execution_count": 57,
     "metadata": {},
     "output_type": "execute_result"
    }
   ],
   "source": [
    "lst.index('Machine Learning Model')"
   ]
  },
  {
   "cell_type": "code",
   "execution_count": 58,
   "id": "cdaf5e94",
   "metadata": {},
   "outputs": [
    {
     "data": {
      "text/plain": [
       "1"
      ]
     },
     "execution_count": 58,
     "metadata": {},
     "output_type": "execute_result"
    }
   ],
   "source": [
    "#Count\n",
    "lst.count('Wisdom')"
   ]
  },
  {
   "cell_type": "code",
   "execution_count": 59,
   "id": "8bd713b1",
   "metadata": {},
   "outputs": [
    {
     "data": {
      "text/plain": [
       "0"
      ]
     },
     "execution_count": 59,
     "metadata": {},
     "output_type": "execute_result"
    }
   ],
   "source": [
    "lst.count(100)"
   ]
  },
  {
   "cell_type": "code",
   "execution_count": 60,
   "id": "83a673e0",
   "metadata": {},
   "outputs": [
    {
     "data": {
      "text/plain": [
       "[10, 1.24, True, 'Wisdom', 'Machine Learning Model']"
      ]
     },
     "execution_count": 60,
     "metadata": {},
     "output_type": "execute_result"
    }
   ],
   "source": [
    "#Insert\n",
    "lst"
   ]
  },
  {
   "cell_type": "code",
   "execution_count": 61,
   "id": "2797fdb8",
   "metadata": {},
   "outputs": [
    {
     "data": {
      "text/plain": [
       "[1111, 'R', 10, 1.24, True, 'Wisdom', 'Machine Learning Model']"
      ]
     },
     "execution_count": 61,
     "metadata": {},
     "output_type": "execute_result"
    }
   ],
   "source": [
    "lst.insert(0,1111)\n",
    "lst.insert(1,'R')\n",
    "lst"
   ]
  },
  {
   "cell_type": "code",
   "execution_count": 62,
   "id": "6ae6af77",
   "metadata": {},
   "outputs": [
    {
     "data": {
      "text/plain": [
       "'Machine Learning Model'"
      ]
     },
     "execution_count": 62,
     "metadata": {},
     "output_type": "execute_result"
    }
   ],
   "source": [
    "#Pop\n",
    "lst.pop()"
   ]
  },
  {
   "cell_type": "code",
   "execution_count": 63,
   "id": "9e535db1",
   "metadata": {},
   "outputs": [
    {
     "data": {
      "text/plain": [
       "[1111, 'R', 10, 1.24, True, 'Wisdom']"
      ]
     },
     "execution_count": 63,
     "metadata": {},
     "output_type": "execute_result"
    }
   ],
   "source": [
    "lst"
   ]
  },
  {
   "cell_type": "code",
   "execution_count": 64,
   "id": "3d4c8d56",
   "metadata": {},
   "outputs": [
    {
     "data": {
      "text/plain": [
       "['Wisdom', True, 1.24, 10, 'R', 1111]"
      ]
     },
     "execution_count": 64,
     "metadata": {},
     "output_type": "execute_result"
    }
   ],
   "source": [
    "#Reverse\n",
    "lst.reverse()\n",
    "lst"
   ]
  },
  {
   "cell_type": "code",
   "execution_count": 65,
   "id": "c0fd9080",
   "metadata": {},
   "outputs": [
    {
     "data": {
      "text/plain": [
       "['Wisdom', 1.24, 10, 'R', 1111]"
      ]
     },
     "execution_count": 65,
     "metadata": {},
     "output_type": "execute_result"
    }
   ],
   "source": [
    "#Remove\n",
    "lst.remove(True)\n",
    "lst"
   ]
  },
  {
   "cell_type": "code",
   "execution_count": 66,
   "id": "c1705d1b",
   "metadata": {},
   "outputs": [
    {
     "data": {
      "text/plain": [
       "['Wisdom', 1.24, 10, 'R', 1111]"
      ]
     },
     "execution_count": 66,
     "metadata": {},
     "output_type": "execute_result"
    }
   ],
   "source": [
    "#Replacing elements in lists\n",
    "lst"
   ]
  },
  {
   "cell_type": "code",
   "execution_count": 67,
   "id": "ea0f97f6",
   "metadata": {},
   "outputs": [
    {
     "data": {
      "text/plain": [
       "['Wisdom', 5000, 10, 'R', 1111]"
      ]
     },
     "execution_count": 67,
     "metadata": {},
     "output_type": "execute_result"
    }
   ],
   "source": [
    "lst[1]=5000\n",
    "lst"
   ]
  },
  {
   "cell_type": "code",
   "execution_count": 68,
   "id": "488d0140",
   "metadata": {},
   "outputs": [
    {
     "data": {
      "text/plain": [
       "tuple"
      ]
     },
     "execution_count": 68,
     "metadata": {},
     "output_type": "execute_result"
    }
   ],
   "source": [
    "#Create a tuple\n",
    "t=()\n",
    "type(t)\n"
   ]
  },
  {
   "cell_type": "code",
   "execution_count": 69,
   "id": "e5faa9aa",
   "metadata": {},
   "outputs": [],
   "source": [
    "t=(10,1.8,'Heart',False)"
   ]
  },
  {
   "cell_type": "code",
   "execution_count": 70,
   "id": "6f2f95cc",
   "metadata": {},
   "outputs": [
    {
     "data": {
      "text/plain": [
       "(10, 1.8, 'Heart', False)"
      ]
     },
     "execution_count": 70,
     "metadata": {},
     "output_type": "execute_result"
    }
   ],
   "source": [
    "t"
   ]
  },
  {
   "cell_type": "code",
   "execution_count": 71,
   "id": "26500b19",
   "metadata": {},
   "outputs": [
    {
     "data": {
      "text/plain": [
       "1"
      ]
     },
     "execution_count": 71,
     "metadata": {},
     "output_type": "execute_result"
    }
   ],
   "source": [
    "t.count(10)"
   ]
  },
  {
   "cell_type": "code",
   "execution_count": 72,
   "id": "fd3cd344",
   "metadata": {},
   "outputs": [
    {
     "data": {
      "text/plain": [
       "0"
      ]
     },
     "execution_count": 72,
     "metadata": {},
     "output_type": "execute_result"
    }
   ],
   "source": [
    "t.index(10)"
   ]
  },
  {
   "cell_type": "code",
   "execution_count": 73,
   "id": "70008057",
   "metadata": {},
   "outputs": [
    {
     "data": {
      "text/plain": [
       "'Heart'"
      ]
     },
     "execution_count": 73,
     "metadata": {},
     "output_type": "execute_result"
    }
   ],
   "source": [
    "#Accessing elements from tuple\n",
    "t[2]"
   ]
  },
  {
   "cell_type": "code",
   "execution_count": 74,
   "id": "3085e08b",
   "metadata": {},
   "outputs": [
    {
     "data": {
      "text/plain": [
       "(10, 1.8, 'Heart', False)"
      ]
     },
     "execution_count": 74,
     "metadata": {},
     "output_type": "execute_result"
    }
   ],
   "source": [
    "#Replacing elements\n",
    "t"
   ]
  },
  {
   "cell_type": "code",
   "execution_count": 75,
   "id": "49f4f0da",
   "metadata": {},
   "outputs": [
    {
     "data": {
      "text/plain": [
       "tuple"
      ]
     },
     "execution_count": 75,
     "metadata": {},
     "output_type": "execute_result"
    }
   ],
   "source": [
    "type(t)"
   ]
  },
  {
   "cell_type": "code",
   "execution_count": 76,
   "id": "57839e86",
   "metadata": {},
   "outputs": [
    {
     "data": {
      "text/plain": [
       "list"
      ]
     },
     "execution_count": 76,
     "metadata": {},
     "output_type": "execute_result"
    }
   ],
   "source": [
    "lst= list(t)\n",
    "type(lst)"
   ]
  },
  {
   "cell_type": "code",
   "execution_count": 77,
   "id": "577fc640",
   "metadata": {},
   "outputs": [
    {
     "data": {
      "text/plain": [
       "[10, 1.8, 'Heart', False]"
      ]
     },
     "execution_count": 77,
     "metadata": {},
     "output_type": "execute_result"
    }
   ],
   "source": [
    "lst"
   ]
  },
  {
   "cell_type": "code",
   "execution_count": 78,
   "id": "3e4e9420",
   "metadata": {},
   "outputs": [
    {
     "data": {
      "text/plain": [
       "[10, 2222, 'Heart', False]"
      ]
     },
     "execution_count": 78,
     "metadata": {},
     "output_type": "execute_result"
    }
   ],
   "source": [
    "lst[1]=2222\n",
    "lst"
   ]
  },
  {
   "cell_type": "code",
   "execution_count": 79,
   "id": "a1761b35",
   "metadata": {},
   "outputs": [
    {
     "data": {
      "text/plain": [
       "[10, 2222, 'Heart', False, 'Lovelylady']"
      ]
     },
     "execution_count": 79,
     "metadata": {},
     "output_type": "execute_result"
    }
   ],
   "source": [
    "lst.append('Lovelylady')\n",
    "lst"
   ]
  },
  {
   "cell_type": "code",
   "execution_count": 80,
   "id": "47ffd4d6",
   "metadata": {},
   "outputs": [
    {
     "data": {
      "text/plain": [
       "[10, 2222, 'Heart', False, 'Lovelylady', 2424]"
      ]
     },
     "execution_count": 80,
     "metadata": {},
     "output_type": "execute_result"
    }
   ],
   "source": [
    "lst.append(2424)\n",
    "lst"
   ]
  },
  {
   "cell_type": "code",
   "execution_count": 81,
   "id": "5f66ef55",
   "metadata": {},
   "outputs": [
    {
     "data": {
      "text/plain": [
       "()"
      ]
     },
     "execution_count": 81,
     "metadata": {},
     "output_type": "execute_result"
    }
   ],
   "source": [
    "t=tuple()\n",
    "t"
   ]
  },
  {
   "cell_type": "code",
   "execution_count": 82,
   "id": "dfaefecf",
   "metadata": {},
   "outputs": [
    {
     "data": {
      "text/plain": [
       "tuple"
      ]
     },
     "execution_count": 82,
     "metadata": {},
     "output_type": "execute_result"
    }
   ],
   "source": [
    "type(t)"
   ]
  },
  {
   "cell_type": "code",
   "execution_count": 83,
   "id": "f3bdf134",
   "metadata": {},
   "outputs": [],
   "source": [
    "#Dictionary"
   ]
  },
  {
   "cell_type": "code",
   "execution_count": 84,
   "id": "4ca5865c",
   "metadata": {},
   "outputs": [],
   "source": [
    "#Creating an empty dictionary\n",
    "d={10:10,12:40,11:11}"
   ]
  },
  {
   "cell_type": "code",
   "execution_count": 85,
   "id": "0e9284f9",
   "metadata": {},
   "outputs": [
    {
     "data": {
      "text/plain": [
       "{10: 10, 12: 40, 11: 11}"
      ]
     },
     "execution_count": 85,
     "metadata": {},
     "output_type": "execute_result"
    }
   ],
   "source": [
    "#Adding elements in a dictinary\n",
    "d"
   ]
  },
  {
   "cell_type": "code",
   "execution_count": 86,
   "id": "366a32b3",
   "metadata": {},
   "outputs": [
    {
     "data": {
      "text/plain": [
       "{'Python': 88, 'ML': 90}"
      ]
     },
     "execution_count": 86,
     "metadata": {},
     "output_type": "execute_result"
    }
   ],
   "source": [
    "d={'Python':88,'ML':90}\n",
    "d"
   ]
  },
  {
   "cell_type": "code",
   "execution_count": 87,
   "id": "81b3546a",
   "metadata": {},
   "outputs": [
    {
     "data": {
      "text/plain": [
       "90"
      ]
     },
     "execution_count": 87,
     "metadata": {},
     "output_type": "execute_result"
    }
   ],
   "source": [
    "#get\n",
    "d.get('ML')"
   ]
  },
  {
   "cell_type": "code",
   "execution_count": 88,
   "id": "42bd58f2",
   "metadata": {},
   "outputs": [
    {
     "data": {
      "text/plain": [
       "dict_items([('Python', 88), ('ML', 90)])"
      ]
     },
     "execution_count": 88,
     "metadata": {},
     "output_type": "execute_result"
    }
   ],
   "source": [
    "#Items\n",
    "d.items()"
   ]
  },
  {
   "cell_type": "code",
   "execution_count": 89,
   "id": "3d5ee2cd",
   "metadata": {},
   "outputs": [
    {
     "data": {
      "text/plain": [
       "dict_keys(['Python', 'ML'])"
      ]
     },
     "execution_count": 89,
     "metadata": {},
     "output_type": "execute_result"
    }
   ],
   "source": [
    "#keys\n",
    "d.keys()"
   ]
  },
  {
   "cell_type": "code",
   "execution_count": 90,
   "id": "609c262a",
   "metadata": {},
   "outputs": [
    {
     "data": {
      "text/plain": [
       "{'Python': 88, 'ML': 90, 'DL': 77}"
      ]
     },
     "execution_count": 90,
     "metadata": {},
     "output_type": "execute_result"
    }
   ],
   "source": [
    "#Adding values in dictionary (update)\n",
    "d.update({'DL':77})\n",
    "d"
   ]
  },
  {
   "cell_type": "code",
   "execution_count": 91,
   "id": "fad693a4",
   "metadata": {},
   "outputs": [
    {
     "data": {
      "text/plain": [
       "{'Python': 88, 'ML': 90, 'DL': 77, 'Physics': 99, 'Math': 36}"
      ]
     },
     "execution_count": 91,
     "metadata": {},
     "output_type": "execute_result"
    }
   ],
   "source": [
    "d.update({'Physics':99,'Math':36})\n",
    "d"
   ]
  },
  {
   "cell_type": "code",
   "execution_count": 92,
   "id": "046e85c2",
   "metadata": {},
   "outputs": [
    {
     "data": {
      "text/plain": [
       "{'Python': 88, 'ML': 90, 'DL': 77, 'Physics': 99, 'Math': 36}"
      ]
     },
     "execution_count": 92,
     "metadata": {},
     "output_type": "execute_result"
    }
   ],
   "source": [
    "#Pop\n",
    "d"
   ]
  },
  {
   "cell_type": "code",
   "execution_count": 93,
   "id": "1bb6fe6d",
   "metadata": {},
   "outputs": [
    {
     "data": {
      "text/plain": [
       "99"
      ]
     },
     "execution_count": 93,
     "metadata": {},
     "output_type": "execute_result"
    }
   ],
   "source": [
    "d.pop('Physics')"
   ]
  },
  {
   "cell_type": "code",
   "execution_count": 94,
   "id": "5721c82a",
   "metadata": {},
   "outputs": [
    {
     "data": {
      "text/plain": [
       "{'Python': 88, 'ML': 90, 'DL': 77, 'Math': 36}"
      ]
     },
     "execution_count": 94,
     "metadata": {},
     "output_type": "execute_result"
    }
   ],
   "source": [
    "d"
   ]
  },
  {
   "cell_type": "code",
   "execution_count": 95,
   "id": "2354f93b",
   "metadata": {},
   "outputs": [
    {
     "data": {
      "text/plain": [
       "dict_values([88, 90, 77, 36])"
      ]
     },
     "execution_count": 95,
     "metadata": {},
     "output_type": "execute_result"
    }
   ],
   "source": [
    "#Values\n",
    "d.values()"
   ]
  },
  {
   "cell_type": "code",
   "execution_count": 96,
   "id": "9dfce848",
   "metadata": {},
   "outputs": [],
   "source": [
    "#Sets"
   ]
  },
  {
   "cell_type": "code",
   "execution_count": 97,
   "id": "16af0e2d",
   "metadata": {},
   "outputs": [
    {
     "data": {
      "text/plain": [
       "set"
      ]
     },
     "execution_count": 97,
     "metadata": {},
     "output_type": "execute_result"
    }
   ],
   "source": [
    "#Creating an empty set\n",
    "s={10,98,34,True,'Harry Potter'}\n",
    "type(s)"
   ]
  },
  {
   "cell_type": "code",
   "execution_count": 98,
   "id": "25aa71f2",
   "metadata": {},
   "outputs": [
    {
     "data": {
      "text/plain": [
       "{10, 34, 98, 'Harry Potter', True}"
      ]
     },
     "execution_count": 98,
     "metadata": {},
     "output_type": "execute_result"
    }
   ],
   "source": [
    "s"
   ]
  },
  {
   "cell_type": "code",
   "execution_count": 99,
   "id": "655bf609",
   "metadata": {},
   "outputs": [],
   "source": [
    "#Does not allow duplicate items.\n",
    "s={10,10,20,30,30,50}"
   ]
  },
  {
   "cell_type": "code",
   "execution_count": 100,
   "id": "699e1017",
   "metadata": {},
   "outputs": [
    {
     "data": {
      "text/plain": [
       "{10, 20, 30, 50}"
      ]
     },
     "execution_count": 100,
     "metadata": {},
     "output_type": "execute_result"
    }
   ],
   "source": [
    "s"
   ]
  },
  {
   "cell_type": "code",
   "execution_count": 101,
   "id": "bb84d480",
   "metadata": {},
   "outputs": [],
   "source": [
    "#Add\n",
    "s.add(7777)"
   ]
  },
  {
   "cell_type": "code",
   "execution_count": 102,
   "id": "9b9de52f",
   "metadata": {},
   "outputs": [
    {
     "data": {
      "text/plain": [
       "{10, 20, 30, 50, 7777}"
      ]
     },
     "execution_count": 102,
     "metadata": {},
     "output_type": "execute_result"
    }
   ],
   "source": [
    "s"
   ]
  },
  {
   "cell_type": "code",
   "execution_count": 104,
   "id": "80431088",
   "metadata": {},
   "outputs": [
    {
     "data": {
      "text/plain": [
       "7777"
      ]
     },
     "execution_count": 104,
     "metadata": {},
     "output_type": "execute_result"
    }
   ],
   "source": [
    "s.pop()"
   ]
  },
  {
   "cell_type": "code",
   "execution_count": null,
   "id": "3676bc07",
   "metadata": {},
   "outputs": [],
   "source": [
    "s"
   ]
  },
  {
   "cell_type": "code",
   "execution_count": null,
   "id": "9a48ce8d",
   "metadata": {},
   "outputs": [],
   "source": [
    "#Set does not support indexing."
   ]
  }
 ],
 "metadata": {
  "kernelspec": {
   "display_name": "Python 3 (ipykernel)",
   "language": "python",
   "name": "python3"
  },
  "language_info": {
   "codemirror_mode": {
    "name": "ipython",
    "version": 3
   },
   "file_extension": ".py",
   "mimetype": "text/x-python",
   "name": "python",
   "nbconvert_exporter": "python",
   "pygments_lexer": "ipython3",
   "version": "3.10.9"
  }
 },
 "nbformat": 4,
 "nbformat_minor": 5
}
