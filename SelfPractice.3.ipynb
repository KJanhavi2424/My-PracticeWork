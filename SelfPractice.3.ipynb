{
 "cells": [
  {
   "cell_type": "markdown",
   "id": "bb0d04a8",
   "metadata": {},
   "source": [
    "# Functions, Loops"
   ]
  },
  {
   "cell_type": "markdown",
   "id": "405368bd",
   "metadata": {},
   "source": [
    "1.Function"
   ]
  },
  {
   "cell_type": "code",
   "execution_count": 1,
   "id": "603aa9d7",
   "metadata": {},
   "outputs": [],
   "source": [
    "#Basic Function"
   ]
  },
  {
   "cell_type": "code",
   "execution_count": 2,
   "id": "c0956991",
   "metadata": {},
   "outputs": [],
   "source": [
    "def simple_function():\n",
    "    print('This is my first function')"
   ]
  },
  {
   "cell_type": "code",
   "execution_count": 3,
   "id": "7c4755a1",
   "metadata": {},
   "outputs": [
    {
     "name": "stdout",
     "output_type": "stream",
     "text": [
      "This is my first function\n"
     ]
    }
   ],
   "source": [
    "simple_function()"
   ]
  },
  {
   "cell_type": "code",
   "execution_count": 4,
   "id": "9f738ef5",
   "metadata": {},
   "outputs": [],
   "source": [
    "def func():\n",
    "    print('First')\n",
    "    print('Second')"
   ]
  },
  {
   "cell_type": "code",
   "execution_count": 5,
   "id": "ea7eb2b6",
   "metadata": {},
   "outputs": [
    {
     "name": "stdout",
     "output_type": "stream",
     "text": [
      "First\n",
      "Second\n"
     ]
    }
   ],
   "source": [
    "func()"
   ]
  },
  {
   "cell_type": "code",
   "execution_count": 6,
   "id": "0e49c863",
   "metadata": {},
   "outputs": [
    {
     "name": "stdout",
     "output_type": "stream",
     "text": [
      "\n"
     ]
    }
   ],
   "source": [
    "print()"
   ]
  },
  {
   "cell_type": "code",
   "execution_count": 7,
   "id": "9087327d",
   "metadata": {},
   "outputs": [],
   "source": [
    "#Docstring"
   ]
  },
  {
   "cell_type": "code",
   "execution_count": 8,
   "id": "9fcf188f",
   "metadata": {},
   "outputs": [],
   "source": [
    "def function():\n",
    "    '''This function will print number 18'''\n",
    "    print(18)"
   ]
  },
  {
   "cell_type": "code",
   "execution_count": 9,
   "id": "70e5601d",
   "metadata": {},
   "outputs": [
    {
     "name": "stdout",
     "output_type": "stream",
     "text": [
      "18\n"
     ]
    }
   ],
   "source": [
    "function()"
   ]
  },
  {
   "cell_type": "code",
   "execution_count": 10,
   "id": "46ec6804",
   "metadata": {},
   "outputs": [],
   "source": [
    "def max_number(x,y):\n",
    "    if x>y:\n",
    "        print(x)"
   ]
  },
  {
   "cell_type": "code",
   "execution_count": 11,
   "id": "ca16ad63",
   "metadata": {},
   "outputs": [
    {
     "name": "stdout",
     "output_type": "stream",
     "text": [
      "11\n"
     ]
    }
   ],
   "source": [
    "max_number(11,9)"
   ]
  },
  {
   "cell_type": "code",
   "execution_count": 12,
   "id": "5016ed47",
   "metadata": {},
   "outputs": [],
   "source": [
    "#*args"
   ]
  },
  {
   "cell_type": "code",
   "execution_count": 13,
   "id": "ea582185",
   "metadata": {},
   "outputs": [],
   "source": [
    "def max_number(*args):\n",
    "    print(max(*args))"
   ]
  },
  {
   "cell_type": "code",
   "execution_count": 14,
   "id": "ee73a7e9",
   "metadata": {},
   "outputs": [
    {
     "name": "stdout",
     "output_type": "stream",
     "text": [
      "9256\n"
     ]
    }
   ],
   "source": [
    "max_number(10,24,35,777,9256,2,35,0,99)"
   ]
  },
  {
   "cell_type": "markdown",
   "id": "753454df",
   "metadata": {},
   "source": [
    "2.Loops"
   ]
  },
  {
   "cell_type": "code",
   "execution_count": 15,
   "id": "22e92c3c",
   "metadata": {},
   "outputs": [],
   "source": [
    "#while loop"
   ]
  },
  {
   "cell_type": "code",
   "execution_count": 16,
   "id": "65421c9b",
   "metadata": {},
   "outputs": [
    {
     "name": "stdout",
     "output_type": "stream",
     "text": [
      "1\n",
      "2\n",
      "3\n",
      "4\n",
      "5\n",
      "6\n",
      "7\n",
      "8\n",
      "9\n"
     ]
    }
   ],
   "source": [
    "i=1\n",
    "while i<10:\n",
    "    print(i)\n",
    "    i=i+1"
   ]
  },
  {
   "cell_type": "code",
   "execution_count": 17,
   "id": "608756c7",
   "metadata": {},
   "outputs": [],
   "source": [
    "#range function"
   ]
  },
  {
   "cell_type": "code",
   "execution_count": 18,
   "id": "8a89fc5a",
   "metadata": {},
   "outputs": [
    {
     "data": {
      "text/plain": [
       "range(0, 31, 2)"
      ]
     },
     "execution_count": 18,
     "metadata": {},
     "output_type": "execute_result"
    }
   ],
   "source": [
    "r=range(0,31,2)\n",
    "r"
   ]
  },
  {
   "cell_type": "code",
   "execution_count": 19,
   "id": "90a10ee9",
   "metadata": {},
   "outputs": [
    {
     "data": {
      "text/plain": [
       "[0, 2, 4, 6, 8, 10, 12, 14, 16, 18, 20, 22, 24, 26, 28, 30]"
      ]
     },
     "execution_count": 19,
     "metadata": {},
     "output_type": "execute_result"
    }
   ],
   "source": [
    "list(r)"
   ]
  },
  {
   "cell_type": "code",
   "execution_count": 20,
   "id": "cb8e4242",
   "metadata": {},
   "outputs": [],
   "source": [
    "#For loop"
   ]
  },
  {
   "cell_type": "code",
   "execution_count": 21,
   "id": "901ffae7",
   "metadata": {},
   "outputs": [
    {
     "name": "stdout",
     "output_type": "stream",
     "text": [
      "1\n",
      "2\n",
      "3\n",
      "4\n",
      "5\n",
      "6\n",
      "7\n",
      "8\n",
      "9\n",
      "10\n"
     ]
    }
   ],
   "source": [
    "for i in range(1,11):\n",
    "    print(i)"
   ]
  },
  {
   "cell_type": "code",
   "execution_count": 22,
   "id": "b22d677a",
   "metadata": {},
   "outputs": [
    {
     "name": "stdout",
     "output_type": "stream",
     "text": [
      "Even\n",
      "1\n",
      "Even\n",
      "3\n",
      "Even\n",
      "5\n",
      "Even\n",
      "7\n",
      "Even\n",
      "9\n",
      "Even\n",
      "11\n",
      "Even\n",
      "13\n",
      "Even\n",
      "15\n",
      "Even\n",
      "17\n",
      "Even\n",
      "19\n",
      "Even\n",
      "21\n",
      "Even\n",
      "23\n",
      "Even\n",
      "25\n",
      "Even\n",
      "27\n",
      "Even\n",
      "29\n",
      "Even\n",
      "31\n",
      "Even\n",
      "33\n",
      "Even\n",
      "35\n",
      "Even\n",
      "37\n",
      "Even\n",
      "39\n",
      "Even\n",
      "41\n",
      "Even\n",
      "43\n",
      "Even\n",
      "45\n",
      "Even\n",
      "47\n",
      "Even\n",
      "49\n"
     ]
    }
   ],
   "source": [
    "for i in range (0,50):\n",
    "    if i%2==1:\n",
    "        print(i)\n",
    "    else:\n",
    "        print('Even')"
   ]
  },
  {
   "cell_type": "code",
   "execution_count": 23,
   "id": "cec4a0e9",
   "metadata": {},
   "outputs": [],
   "source": [
    "#Company list\n",
    "company=['amazon','flipcart','ExcelR','Tesla']"
   ]
  },
  {
   "cell_type": "code",
   "execution_count": 24,
   "id": "c1179f9f",
   "metadata": {},
   "outputs": [
    {
     "name": "stdout",
     "output_type": "stream",
     "text": [
      "amazon\n",
      "flipcart\n",
      "ExcelR\n",
      "Tesla\n"
     ]
    }
   ],
   "source": [
    "for i in company:\n",
    "    print(i)"
   ]
  },
  {
   "cell_type": "code",
   "execution_count": 25,
   "id": "7723cbf1",
   "metadata": {},
   "outputs": [
    {
     "name": "stdout",
     "output_type": "stream",
     "text": [
      "www.amazon.com\n",
      "www.flipcart.com\n",
      "www.ExcelR.com\n",
      "www.Tesla.com\n"
     ]
    }
   ],
   "source": [
    "for i in company:\n",
    "    print('www.'+i+'.com')"
   ]
  },
  {
   "cell_type": "code",
   "execution_count": 26,
   "id": "088a260f",
   "metadata": {},
   "outputs": [
    {
     "name": "stdout",
     "output_type": "stream",
     "text": [
      "1\n",
      "4\n",
      "9\n",
      "16\n",
      "25\n",
      "36\n",
      "49\n",
      "64\n",
      "81\n",
      "100\n"
     ]
    }
   ],
   "source": [
    "#square\n",
    "for i in range (1,11):\n",
    "    print(i**2)"
   ]
  },
  {
   "cell_type": "code",
   "execution_count": 27,
   "id": "5c2296ec",
   "metadata": {},
   "outputs": [],
   "source": [
    "even=[]\n",
    "odd=[]\n",
    "\n",
    "for i in range (1,20):\n",
    "        if i%2==0:\n",
    "            even.append(i)\n",
    "        else:\n",
    "            odd.append(i)"
   ]
  },
  {
   "cell_type": "code",
   "execution_count": 28,
   "id": "ad3ae9f8",
   "metadata": {},
   "outputs": [
    {
     "data": {
      "text/plain": [
       "[2, 4, 6, 8, 10, 12, 14, 16, 18]"
      ]
     },
     "execution_count": 28,
     "metadata": {},
     "output_type": "execute_result"
    }
   ],
   "source": [
    "even"
   ]
  },
  {
   "cell_type": "code",
   "execution_count": 29,
   "id": "d11139c1",
   "metadata": {},
   "outputs": [
    {
     "data": {
      "text/plain": [
       "[1, 3, 5, 7, 9, 11, 13, 15, 17, 19]"
      ]
     },
     "execution_count": 29,
     "metadata": {},
     "output_type": "execute_result"
    }
   ],
   "source": [
    "odd"
   ]
  },
  {
   "cell_type": "markdown",
   "id": "ac1c6ba7",
   "metadata": {},
   "source": [
    "Classwork"
   ]
  },
  {
   "cell_type": "code",
   "execution_count": 30,
   "id": "5d9b5134",
   "metadata": {},
   "outputs": [
    {
     "name": "stdout",
     "output_type": "stream",
     "text": [
      "Enter runs:100\n",
      "Century\n"
     ]
    }
   ],
   "source": [
    "#Century of a player\n",
    "runs=int(input('Enter runs:'))\n",
    "if runs==100:\n",
    "    print('Century')\n",
    "else:\n",
    "    print('Need more', 100-runs,' runs for Century')"
   ]
  },
  {
   "cell_type": "code",
   "execution_count": 31,
   "id": "2a35b88f",
   "metadata": {},
   "outputs": [
    {
     "name": "stdout",
     "output_type": "stream",
     "text": [
      "Enter number:222\n",
      "Three digit\n"
     ]
    }
   ],
   "source": [
    "#One, two, three digit numbers\n",
    "number=int(input('Enter number:'))\n",
    "if number<=9:\n",
    "    print('One digit')\n",
    "elif number<=99:\n",
    "    print('Two digit')\n",
    "elif number<=999:\n",
    "    print('Three digit')\n",
    "else:\n",
    "    print('No way')"
   ]
  },
  {
   "cell_type": "code",
   "execution_count": 32,
   "id": "a69d18da",
   "metadata": {
    "scrolled": true
   },
   "outputs": [
    {
     "name": "stdout",
     "output_type": "stream",
     "text": [
      "Enter any number:99\n",
      "This is what we want\n"
     ]
    }
   ],
   "source": [
    "#99 or not\n",
    "number=int(input('Enter any number:'))\n",
    "if number==99:\n",
    "    print('This is what we want')\n",
    "else:\n",
    "    print('Number is not 99')"
   ]
  },
  {
   "cell_type": "code",
   "execution_count": 33,
   "id": "98a2525d",
   "metadata": {},
   "outputs": [],
   "source": [
    "#names starts with 'J'\n",
    "names = ['Aishwarya','Janhavi','Pritam','Khushi','Priya','Nikita','Jagruti','Sayali','Amrita','Jagrut']"
   ]
  },
  {
   "cell_type": "code",
   "execution_count": 34,
   "id": "c4bddd86",
   "metadata": {},
   "outputs": [],
   "source": [
    "lst = []\n",
    "for i in names:\n",
    "    if i.startswith('J'):\n",
    "        lst.append(i)    "
   ]
  },
  {
   "cell_type": "code",
   "execution_count": 35,
   "id": "5bf794d5",
   "metadata": {},
   "outputs": [
    {
     "data": {
      "text/plain": [
       "['Janhavi', 'Jagruti', 'Jagrut']"
      ]
     },
     "execution_count": 35,
     "metadata": {},
     "output_type": "execute_result"
    }
   ],
   "source": [
    "lst"
   ]
  },
  {
   "cell_type": "code",
   "execution_count": 36,
   "id": "0636b2c5",
   "metadata": {},
   "outputs": [],
   "source": [
    "lst = []\n",
    "for i in names:\n",
    "    if i.startswith('P'):\n",
    "        lst.append(i)    "
   ]
  },
  {
   "cell_type": "code",
   "execution_count": 37,
   "id": "ae1d16b3",
   "metadata": {},
   "outputs": [
    {
     "data": {
      "text/plain": [
       "['Pritam', 'Priya']"
      ]
     },
     "execution_count": 37,
     "metadata": {},
     "output_type": "execute_result"
    }
   ],
   "source": [
    "lst"
   ]
  },
  {
   "cell_type": "code",
   "execution_count": 38,
   "id": "899793d2",
   "metadata": {},
   "outputs": [],
   "source": [
    "#Numbers list\n",
    "num = [1,34,234,987,67,99,87,64,89,24,780]"
   ]
  },
  {
   "cell_type": "code",
   "execution_count": 39,
   "id": "c20ee22a",
   "metadata": {},
   "outputs": [
    {
     "name": "stdout",
     "output_type": "stream",
     "text": [
      "1\n",
      "34\n",
      "234\n",
      "987\n",
      "67\n",
      "99\n",
      "87\n",
      "64\n",
      "89\n",
      "24\n",
      "780\n"
     ]
    }
   ],
   "source": [
    "for i in num:\n",
    "    print(i)"
   ]
  },
  {
   "cell_type": "code",
   "execution_count": 40,
   "id": "120a088c",
   "metadata": {},
   "outputs": [
    {
     "name": "stdout",
     "output_type": "stream",
     "text": [
      "6\n",
      "39\n",
      "239\n",
      "992\n",
      "72\n",
      "104\n",
      "92\n",
      "69\n",
      "94\n",
      "29\n",
      "785\n"
     ]
    }
   ],
   "source": [
    "for i in num:\n",
    "    print(i+5)"
   ]
  },
  {
   "cell_type": "code",
   "execution_count": 41,
   "id": "9d449c5d",
   "metadata": {},
   "outputs": [],
   "source": [
    "#List of marks\n",
    "marks = [67,79,98,99,43,57,77,62,26,71]"
   ]
  },
  {
   "cell_type": "code",
   "execution_count": 53,
   "id": "8c14b4cd",
   "metadata": {},
   "outputs": [],
   "source": [
    "lst = []\n",
    "for i in marks:\n",
    "    if i>75:\n",
    "        lst.append(i)    "
   ]
  },
  {
   "cell_type": "code",
   "execution_count": 54,
   "id": "ace56b95",
   "metadata": {},
   "outputs": [
    {
     "data": {
      "text/plain": [
       "[79, 98, 99, 77]"
      ]
     },
     "execution_count": 54,
     "metadata": {},
     "output_type": "execute_result"
    }
   ],
   "source": [
    "lst"
   ]
  },
  {
   "cell_type": "code",
   "execution_count": null,
   "id": "937f36af",
   "metadata": {},
   "outputs": [],
   "source": []
  }
 ],
 "metadata": {
  "kernelspec": {
   "display_name": "Python 3 (ipykernel)",
   "language": "python",
   "name": "python3"
  },
  "language_info": {
   "codemirror_mode": {
    "name": "ipython",
    "version": 3
   },
   "file_extension": ".py",
   "mimetype": "text/x-python",
   "name": "python",
   "nbconvert_exporter": "python",
   "pygments_lexer": "ipython3",
   "version": "3.10.9"
  }
 },
 "nbformat": 4,
 "nbformat_minor": 5
}
